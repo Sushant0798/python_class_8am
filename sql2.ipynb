{
 "cells": [
  {
   "cell_type": "code",
   "execution_count": 2,
   "id": "9b9ca850",
   "metadata": {},
   "outputs": [],
   "source": [
    "import mysql.connector\n",
    "database = mysql.connector.connect(\n",
    "    host=\"localhost\",\n",
    "    user=\"root\",\n",
    "    password=\"\",\n",
    "    database = \"mysqldb\"\n",
    ")\n",
    "db = database.cursor()"
   ]
  },
  {
   "cell_type": "code",
   "execution_count": 3,
   "id": "71c65f49",
   "metadata": {},
   "outputs": [
    {
     "name": "stdout",
     "output_type": "stream",
     "text": [
      "(1, 'Ram', 92, 85, 92, 88, 90, 420, 91.0, 'A+')\n",
      "(2, 'Shyam\\r\\n', 88, 89, 85, 86, 90, 420, 86.0, 'A')\n",
      "(11, 'Ram', 92, 85, 93, 88, 90, 420, 91.0, 'A+')\n",
      "(12, 'Bikash', 91, 92, 81, 85, 77, 426, 85.2, 'A')\n"
     ]
    }
   ],
   "source": [
    "db.execute(\"SELECT * FROM `reasult-of-class10`\")\n",
    "result =db.fetchall()\n",
    "for x in result:\n",
    "           print(x)"
   ]
  },
  {
   "cell_type": "code",
   "execution_count": 3,
   "id": "31e7115f",
   "metadata": {},
   "outputs": [
    {
     "name": "stdout",
     "output_type": "stream",
     "text": [
      "Enter name: Bikash\n",
      "marks in maths= 91\n",
      "marks in physics= 92\n",
      "marks in nepali= 81\n",
      "marks in english= 85\n",
      "marks in chemistry= 77\n",
      "1 record inserted.\n"
     ]
    }
   ],
   "source": [
    "name = input(\"Enter name: \")\n",
    "m = float(input(\"marks in maths= \"))\n",
    "p = float(input(\"marks in physics= \"))\n",
    "n = float(input(\"marks in nepali= \"))\n",
    "e = float(input(\"marks in english= \"))\n",
    "c = float(input(\"marks in chemistry= \"))\n",
    "total = m+p+n+e+c\n",
    "per = total/5\n",
    "\n",
    "if per>= 80:\n",
    "    grade=\"A\"\n",
    "elif per>= 60:\n",
    "    grade =\"B\"\n",
    "elif per>= 45:\n",
    "    grade = \"c\"\n",
    "else:\n",
    "    grade = \"F\"\n",
    "\n",
    "sql = f''' INSERT INTO `reasult-of-class10` (name, physics, math, english, chemistry, nepali, total, per, grade) \n",
    "       VALUES ('{name}', {m}, {p}, {n}, {e}, {c}, {total}, {per}, '{grade}')'''\n",
    "db.execute(sql)\n",
    "database.commit()\n",
    "print(db.rowcount, \"record inserted.\")"
   ]
  },
  {
   "cell_type": "code",
   "execution_count": 4,
   "id": "6bb86555",
   "metadata": {},
   "outputs": [
    {
     "name": "stdout",
     "output_type": "stream",
     "text": [
      "(1, 'Ram', 92, 85, 92, 88, 90, 420, 91.0, 'A+')\n",
      "(11, 'Ram', 92, 85, 93, 88, 90, 420, 91.0, 'A+')\n"
     ]
    }
   ],
   "source": [
    "db.execute(\"SELECT * FROM `reasult-of-class10` WHERE name LIKE '%Ra%'\")\n",
    "result =db.fetchall()\n",
    "for x in result:\n",
    "           print(x)"
   ]
  },
  {
   "cell_type": "code",
   "execution_count": null,
   "id": "83890243",
   "metadata": {},
   "outputs": [],
   "source": []
  }
 ],
 "metadata": {
  "kernelspec": {
   "display_name": "Python 3 (ipykernel)",
   "language": "python",
   "name": "python3"
  },
  "language_info": {
   "codemirror_mode": {
    "name": "ipython",
    "version": 3
   },
   "file_extension": ".py",
   "mimetype": "text/x-python",
   "name": "python",
   "nbconvert_exporter": "python",
   "pygments_lexer": "ipython3",
   "version": "3.11.7"
  }
 },
 "nbformat": 4,
 "nbformat_minor": 5
}
