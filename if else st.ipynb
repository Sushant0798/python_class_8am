{
 "cells": [
  {
   "cell_type": "code",
   "execution_count": null,
   "id": "997ba787",
   "metadata": {},
   "outputs": [],
   "source": [
    "# <  >  == <=  >== == !="
   ]
  },
  {
   "cell_type": "code",
   "execution_count": null,
   "id": "89bab0d1",
   "metadata": {},
   "outputs": [],
   "source": [
    "if <condition>:\n",
    "# <operation>\n",
    "# elif<condition>\n",
    "<operation>\n"
   ]
  },
  {
   "cell_type": "code",
   "execution_count": null,
   "id": "b181a249",
   "metadata": {},
   "outputs": [],
   "source": [
    "age = int(input(\"enter your age\"))\n",
    "if age > 10:\n",
    "    print(\"your age is greater than 10\")\n",
    "else:\n",
    "    print(\"you are under age\")"
   ]
  },
  {
   "cell_type": "code",
   "execution_count": 5,
   "id": "3159dfb7",
   "metadata": {},
   "outputs": [
    {
     "name": "stdout",
     "output_type": "stream",
     "text": [
      "enter the number7\n",
      "the given number is odd\n"
     ]
    }
   ],
   "source": [
    "a = int(input(\"enter the number\"))\n",
    "if a % 2 == 0:\n",
    "    print(\"the given number is even\")\n",
    "else:\n",
    "    print(\"the given number is odd\")\n"
   ]
  },
  {
   "cell_type": "code",
   "execution_count": 7,
   "id": "6c539287",
   "metadata": {},
   "outputs": [
    {
     "name": "stdout",
     "output_type": "stream",
     "text": [
      "enter any number22\n",
      "enrer any nimber32\n",
      "32 is greater than 22\n"
     ]
    }
   ],
   "source": [
    "a = int(input(\"enter any number\"))\n",
    "b = int(input(\"enrer any nimber\"))\n",
    "if a>b:\n",
    "    print(a,\"is greater than\",b)\n",
    "elif a<b:\n",
    "    print(b,\"is greater than\",a)\n",
    "else:\n",
    "    print(a,\"and\",b\"ther are equal\")\n"
   ]
  },
  {
   "cell_type": "code",
   "execution_count": 1,
   "id": "655194e0",
   "metadata": {},
   "outputs": [
    {
     "ename": "SyntaxError",
     "evalue": "invalid syntax (1282019769.py, line 30)",
     "output_type": "error",
     "traceback": [
      "\u001b[1;36m  Cell \u001b[1;32mIn[1], line 30\u001b[1;36m\u001b[0m\n\u001b[1;33m    return x,y reasult()\u001b[0m\n\u001b[1;37m               ^\u001b[0m\n\u001b[1;31mSyntaxError\u001b[0m\u001b[1;31m:\u001b[0m invalid syntax\n"
     ]
    }
   ],
   "source": [
    "def reasult():\n",
    "    m = float(input(\"marks in maths= \"))\n",
    "    s = float(input(\"marks in science= \"))\n",
    "    n = float(input(\"marks in nepali= \"))\n",
    "    e = float(input(\"marks in english= \"))\n",
    "    env = float(input(\"marks in env.science= \"))\n",
    "    so = float(input(\"marks in social= \"))\n",
    "    c = float(input(\"marks in computer= \"))\n",
    "    tot = m+s+n+e+env+so+c\n",
    "    ave = tot/7\n",
    "    if ave>= 90:\n",
    "        print(\"you have score A+\")\n",
    "    elif ave>= 80:\n",
    "        print(\"you have score A\")\n",
    "    elif ave>= 70:\n",
    "        print(\"you have score B+\")\n",
    "    elif ave>= 60:\n",
    "        print(\"you have score B\")\n",
    "    elif ave>= 50:\n",
    "        print(\"you have score c+\")\n",
    "    elif ave>= 40:\n",
    "        print(\"you have score c\")\n",
    "    elif ave>= 35:\n",
    "        print(\"you have score d\")\n",
    "    else:\n",
    "        print(\"you have failed\")\n",
    "\n",
    "return tot ,ave\n",
    "\n",
    "return x,y reasult()\n",
    "\n",
    "print('total marks = ',x)\n",
    "print('per= ',y)\n",
    "    "
   ]
  },
  {
   "cell_type": "code",
   "execution_count": null,
   "id": "aa9bbdc3",
   "metadata": {},
   "outputs": [],
   "source": [
    "#wap to make a basis calculator\n",
    "take a and b as input take o as operator"
   ]
  },
  {
   "cell_type": "code",
   "execution_count": null,
   "id": "16187b8d",
   "metadata": {},
   "outputs": [],
   "source": [
    "\n",
    "\n",
    "a = float(input(\"enter your first number: \"))\n",
    "b = float(input(\"enter your second number: \"))\n",
    "\n",
    "print(\"press 1 for addition \\npress 2 for subtraction \\npress 3 for miltiplaction \\npress 4 for division\")\n",
    "c = int(input(\"enter your choice: \"))\n",
    "if c == 1:\n",
    "    print(a +b )\n",
    "elif c == 2:\n",
    "    print(a - b)\n",
    "elif c == 3:\n",
    "    print(a * b)\n",
    "elif c == 4and b!=0:\n",
    "    print(a / b)\n",
    "elif c == 4 and b ==0:\n",
    "    print(\"the value of b cannt be zero\")\n",
    "else:\n",
    "    print(\"invalid number\")"
   ]
  },
  {
   "cell_type": "code",
   "execution_count": 4,
   "id": "55a0397b",
   "metadata": {},
   "outputs": [],
   "source": [
    "# nested if else st\n",
    "# if<condition>\n",
    "# if<condition>\n",
    "    <operation>\n",
    "    else:\n",
    "        <condition>\n",
    "    else:\n",
    "        <operation>"
   ]
  },
  {
   "cell_type": "code",
   "execution_count": 7,
   "id": "66a6725e",
   "metadata": {},
   "outputs": [
    {
     "name": "stdout",
     "output_type": "stream",
     "text": [
      "enter any number21\n",
      "the value is+ve and odd\n"
     ]
    }
   ],
   "source": [
    "x = int(input(\"enter any number\"))\n",
    "if x >=0:\n",
    "    if x % 2 == 0:\n",
    "        print(\"the value is +ve and even\")\n",
    "    else:\n",
    "        print(\"the value is +ve and odd\")\n",
    "else:\n",
    "    if x % 2!= 0:\n",
    "        print(\"the value is -ve and even\")\n",
    "    else:\n",
    "        print(\"the value is -ve and odd\")\n",
    "     \n",
    "     "
   ]
  },
  {
   "cell_type": "code",
   "execution_count": null,
   "id": "8d63005c",
   "metadata": {},
   "outputs": [],
   "source": [
    "# logical operator\n",
    "# and or not"
   ]
  },
  {
   "cell_type": "code",
   "execution_count": 9,
   "id": "54491961",
   "metadata": {},
   "outputs": [
    {
     "name": "stdout",
     "output_type": "stream",
     "text": [
      "True\n",
      "True\n",
      "True\n",
      "False\n"
     ]
    }
   ],
   "source": [
    "#or\n",
    "print(True or False)\n",
    "print(True or True)\n",
    "print(False or True)\n",
    "print(False or False)\n"
   ]
  },
  {
   "cell_type": "code",
   "execution_count": 10,
   "id": "3b4d4a30",
   "metadata": {},
   "outputs": [
    {
     "name": "stdout",
     "output_type": "stream",
     "text": [
      "False\n",
      "True\n",
      "False\n",
      "False\n"
     ]
    }
   ],
   "source": [
    "# and\n",
    "print(True and False)\n",
    "print(True and True)\n",
    "print(False and True)\n",
    "print(False and False)\n"
   ]
  },
  {
   "cell_type": "code",
   "execution_count": 7,
   "id": "99a1565b",
   "metadata": {},
   "outputs": [
    {
     "name": "stdout",
     "output_type": "stream",
     "text": [
      "enter the marks of physics:22\n",
      "enter the marks of maths: 66\n",
      "enter the marks of english: 76\n",
      "enter the marks of nepali: 87\n",
      "enter the marks of chemistry: 56\n",
      "total marks =  275\n",
      "per =  55.0\n",
      "grade =  F\n"
     ]
    }
   ],
   "source": [
    "physics = int(input(\"enter the marks of physics:\"))\n",
    "maths = int(input(\"enter the marks of maths: \"))\n",
    "english = int(input(\"enter the marks of english: \"))\n",
    "nepali = int(input(\"enter the marks of nepali: \"))\n",
    "chemistry = int(input(\"enter the marks of chemistry: \"))\n",
    "if physics >=32 and chemistry >= 32 and english >=32 and nepali >=32:\n",
    "    total = physics + maths+ english + nepali + chemistry\n",
    "    per = total/5\n",
    "    if per >= 80:\n",
    "        grade = 'A'\n",
    "    elif per >= 60:\n",
    "        grade = 'B'\n",
    "    elif per >= 45:\n",
    "        grade = 'c'\n",
    "    else:\n",
    "        grade ='D'\n",
    "else:\n",
    "    grade = 'F'\n",
    "print(\"total marks = \",total)\n",
    "print(\"per = \",per)\n",
    "print(\"grade = \",grade)\n",
    "    "
   ]
  },
  {
   "cell_type": "code",
   "execution_count": 8,
   "id": "710521bd",
   "metadata": {},
   "outputs": [
    {
     "name": "stdout",
     "output_type": "stream",
     "text": [
      "enter your first number: 10\n",
      "enter your second number: 0\n",
      "press 1 for addition \n",
      "press 2 for subtraction \n",
      "press 3 for miltiplaction \n",
      "press 4 for division\n",
      "enter your choice: 4\n",
      "the value of b cannt be zero\n"
     ]
    }
   ],
   "source": [
    "a = float(input(\"enter your first number: \"))\n",
    "b = float(input(\"enter your second number: \"))\n",
    "\n",
    "print(\"press 1 for addition \\npress 2 for subtraction \\npress 3 for miltiplaction \\npress 4 for division\")\n",
    "c = int(input(\"enter your choice: \"))\n",
    "if c == 1:\n",
    "    print(a +b )\n",
    "elif c == 2:\n",
    "    print(a - b)\n",
    "elif c == 3:\n",
    "    print(a * b)\n",
    "elif c == 4:\n",
    "    if b != 0:\n",
    "        print(a / b)\n",
    "    else:\n",
    "        print(\"the value of b cannt be zero\")\n",
    "else:\n",
    "    print(\"invalid number\")"
   ]
  },
  {
   "cell_type": "code",
   "execution_count": null,
   "id": "5b084135",
   "metadata": {},
   "outputs": [],
   "source": []
  }
 ],
 "metadata": {
  "kernelspec": {
   "display_name": "Python 3 (ipykernel)",
   "language": "python",
   "name": "python3"
  },
  "language_info": {
   "codemirror_mode": {
    "name": "ipython",
    "version": 3
   },
   "file_extension": ".py",
   "mimetype": "text/x-python",
   "name": "python",
   "nbconvert_exporter": "python",
   "pygments_lexer": "ipython3",
   "version": "3.11.7"
  }
 },
 "nbformat": 4,
 "nbformat_minor": 5
}
