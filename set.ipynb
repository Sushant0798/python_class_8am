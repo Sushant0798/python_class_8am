{
 "cells": [
  {
   "cell_type": "code",
   "execution_count": null,
   "id": "a8bc58e2",
   "metadata": {},
   "outputs": [],
   "source": [
    "#set \n",
    "no indexing\n",
    "multiple but no duplicate value\n",
    "unordered\n",
    "mutable"
   ]
  },
  {
   "cell_type": "code",
   "execution_count": 5,
   "id": "905abdf7",
   "metadata": {},
   "outputs": [
    {
     "name": "stdout",
     "output_type": "stream",
     "text": [
      "<class 'set'>\n"
     ]
    }
   ],
   "source": [
    "s = {1,}\n",
    "print(type(s))\n"
   ]
  },
  {
   "cell_type": "code",
   "execution_count": 2,
   "id": "52fb5179",
   "metadata": {},
   "outputs": [
    {
     "name": "stdout",
     "output_type": "stream",
     "text": [
      "{'fish', 'cat', 'ball', 'apple', 'dog'}\n"
     ]
    }
   ],
   "source": [
    "a = {\"apple\",\"ball\",'cat',\"dog\",\"fish\"}\n",
    "print(a)"
   ]
  },
  {
   "cell_type": "code",
   "execution_count": 4,
   "id": "e335587c",
   "metadata": {},
   "outputs": [
    {
     "data": {
      "text/plain": [
       "{'apple', 'ball', 'cat', 'dog', 'fish'}"
      ]
     },
     "execution_count": 4,
     "metadata": {},
     "output_type": "execute_result"
    }
   ],
   "source": [
    "a = {\"apple\",\"ball\",'cat',\"dog\",\"fish\",\"apple\",\"fish\"}\n",
    "a"
   ]
  },
  {
   "cell_type": "code",
   "execution_count": 5,
   "id": "0e3d4a3d",
   "metadata": {},
   "outputs": [
    {
     "data": {
      "text/plain": [
       "{'.apple', 1, 3, 4, 5, 6, 7, 'apple'}"
      ]
     },
     "execution_count": 5,
     "metadata": {},
     "output_type": "execute_result"
    }
   ],
   "source": [
    "s = {4,5,6,7,1,3,4,\"apple\",\".apple\"}\n",
    "s"
   ]
  },
  {
   "cell_type": "code",
   "execution_count": 7,
   "id": "65cc2efb",
   "metadata": {},
   "outputs": [
    {
     "data": {
      "text/plain": [
       "{'apple', 'ball', 'cat'}"
      ]
     },
     "execution_count": 7,
     "metadata": {},
     "output_type": "execute_result"
    }
   ],
   "source": [
    "#add\n",
    "s = set()\n",
    "s.add(\"apple\")\n",
    "s.add(\"ball\")\n",
    "s.add(\"cat\")\n",
    "s"
   ]
  },
  {
   "cell_type": "code",
   "execution_count": 8,
   "id": "d3022e79",
   "metadata": {},
   "outputs": [
    {
     "data": {
      "text/plain": [
       "{'ball', 'cat', 'dog', 'fish'}"
      ]
     },
     "execution_count": 8,
     "metadata": {},
     "output_type": "execute_result"
    }
   ],
   "source": [
    "#remove\n",
    "s = {4,5,6,7,1,3,4,\"apple\",\".apple\"}\n",
    "a.remove(\"apple\")\n",
    "a"
   ]
  },
  {
   "cell_type": "code",
   "execution_count": 13,
   "id": "52c3fb5c",
   "metadata": {},
   "outputs": [
    {
     "data": {
      "text/plain": [
       "{'apple', 'ball', 'cat', 'dog', 'fish'}"
      ]
     },
     "execution_count": 13,
     "metadata": {},
     "output_type": "execute_result"
    }
   ],
   "source": [
    "s = {\"apple\",\"ball\",'cat',\"dog\",\"fish\",\"apple\",\"fish\"}\n",
    "k = list(s)\n",
    "s"
   ]
  },
  {
   "cell_type": "code",
   "execution_count": 16,
   "id": "a5ff4927",
   "metadata": {},
   "outputs": [
    {
     "name": "stdout",
     "output_type": "stream",
     "text": [
      "both in apple and ms {'ram', 'shyam'}\n"
     ]
    }
   ],
   "source": [
    "#ste for math\n",
    "apple = {'ram','shyam','harry',\"gita\",'kamal'}\n",
    "ms = {'ram', \"john\", \"shyam\", \"satya\"}\n",
    "print('both in apple and ms',apple.intersection(ms))"
   ]
  },
  {
   "cell_type": "code",
   "execution_count": 21,
   "id": "189c7277",
   "metadata": {},
   "outputs": [
    {
     "name": "stdout",
     "output_type": "stream",
     "text": [
      "when both combine {'kamal', 'harry', 'john', 'ram', 'gita', 'shyam', 'satya'}\n"
     ]
    },
    {
     "data": {
      "text/plain": [
       "{'abc', 'xyz'}"
      ]
     },
     "execution_count": 21,
     "metadata": {},
     "output_type": "execute_result"
    }
   ],
   "source": [
    "u = {'kamal', 'harry', 'john', 'ram', 'gita', 'shyam', 'satya','abc','xyz'}\n",
    "apple = {'ram','shyam','harry',\"gita\",'kamal'}\n",
    "ms = {'ram', \"john\", \"shyam\", \"satya\"}\n",
    "print(\"when both combine\",apple.union(ms))\n",
    "u - apple.union(ms)\n"
   ]
  },
  {
   "cell_type": "code",
   "execution_count": 18,
   "id": "75092d57",
   "metadata": {},
   "outputs": [
    {
     "name": "stdout",
     "output_type": "stream",
     "text": [
      "only apple {'kamal', 'harry', 'gita'}\n"
     ]
    }
   ],
   "source": [
    "print(\"only apple\",apple-ms)"
   ]
  },
  {
   "cell_type": "code",
   "execution_count": 19,
   "id": "285caada",
   "metadata": {},
   "outputs": [
    {
     "name": "stdout",
     "output_type": "stream",
     "text": [
      "only ms {'john', 'satya'}\n"
     ]
    }
   ],
   "source": [
    "print('only ms',ms-apple)"
   ]
  },
  {
   "cell_type": "code",
   "execution_count": null,
   "id": "69b5bca6",
   "metadata": {},
   "outputs": [],
   "source": []
  },
  {
   "cell_type": "code",
   "execution_count": null,
   "id": "dc41cd04",
   "metadata": {},
   "outputs": [],
   "source": []
  }
 ],
 "metadata": {
  "kernelspec": {
   "display_name": "Python 3 (ipykernel)",
   "language": "python",
   "name": "python3"
  },
  "language_info": {
   "codemirror_mode": {
    "name": "ipython",
    "version": 3
   },
   "file_extension": ".py",
   "mimetype": "text/x-python",
   "name": "python",
   "nbconvert_exporter": "python",
   "pygments_lexer": "ipython3",
   "version": "3.11.7"
  }
 },
 "nbformat": 4,
 "nbformat_minor": 5
}
