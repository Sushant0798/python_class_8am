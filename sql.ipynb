{
 "cells": [
  {
   "cell_type": "code",
   "execution_count": 2,
   "id": "4910242d",
   "metadata": {},
   "outputs": [],
   "source": [
    "#!pip install mysql-connector-python"
   ]
  },
  {
   "cell_type": "code",
   "execution_count": 3,
   "id": "ded49591",
   "metadata": {},
   "outputs": [],
   "source": [
    "import mysql.connector\n",
    "#importing database\n",
    "database = mysql.connector.connect(\n",
    "    host=\"localhost\",\n",
    "    user=\"root\",\n",
    "    password=\"\",\n",
    "    database = \"python-8am\")\n",
    "db = database.cursor()"
   ]
  },
  {
   "cell_type": "code",
   "execution_count": 4,
   "id": "f9e112b1",
   "metadata": {},
   "outputs": [
    {
     "name": "stdout",
     "output_type": "stream",
     "text": [
      "(16, 'Bikash', 89, 77, 86, 74, 88, 420, 80.0, 'A')\n",
      "(20, 'Nabina', 98, 46, 56, 76, 56, 420, 66.0, 'B')\n",
      "(21, 'Shyam', 69, 55, 75, 72, 79, 390, 69.0, 'B')\n",
      "(22, 'Rama', 90, 85, 95, 74, 89, 410, 89.0, 'A')\n",
      "(23, 'Rabina', 98, 85, 77, 88, 92, 420, 91.0, 'A+')\n",
      "(24, 'Anju', 98, 85, 77, 88, 92, 420, 91.0, 'A+')\n",
      "(28, 'Rabin', 98, 85, 77, 88, 92, 420, 91.0, 'A+')\n",
      "(29, 'Hari', 90, 91, 92, 93, 94, 460, 92.0, 'A')\n"
     ]
    }
   ],
   "source": [
    "db.execute(\"SELECT * FROM student\")\n",
    "result =db.fetchall()\n",
    "for x in result:\n",
    "           print(x)"
   ]
  },
  {
   "cell_type": "code",
   "execution_count": 5,
   "id": "06250c99",
   "metadata": {},
   "outputs": [
    {
     "name": "stdout",
     "output_type": "stream",
     "text": [
      "1 record inserted.\n"
     ]
    }
   ],
   "source": [
    "#insert data into table\n",
    "sql = ''' INSERT INTO `student` (`sn`, `name`, `physics`, `math`, `english`, `chemistry`, `nepali`, `total`, `per`, `grade`) \n",
    "VALUES ('25', 'Rabin', '98', '85', '77', '88', '92', '420', '91', 'A+');'''\n",
    "db.execute(sql)\n",
    "database.commit()\n",
    "print(db.rowcount, \"record inserted.\")"
   ]
  },
  {
   "cell_type": "code",
   "execution_count": null,
   "id": "2f1325db",
   "metadata": {},
   "outputs": [],
   "source": []
  },
  {
   "cell_type": "code",
   "execution_count": 15,
   "id": "404e383d",
   "metadata": {},
   "outputs": [
    {
     "name": "stdout",
     "output_type": "stream",
     "text": [
      "Enter name: Hari\n",
      "marks in maths= 90\n",
      "marks in physics= 91\n",
      "marks in nepali= 92\n",
      "marks in english= 93\n",
      "marks in chemistry= 94\n",
      "1 record inserted.\n"
     ]
    }
   ],
   "source": [
    "name = input(\"Enter name: \")\n",
    "m = float(input(\"marks in maths= \"))\n",
    "p = float(input(\"marks in physics= \"))\n",
    "n = float(input(\"marks in nepali= \"))\n",
    "e = float(input(\"marks in english= \"))\n",
    "c = float(input(\"marks in chemistry= \"))\n",
    "total = m+p+n+e+c\n",
    "per = total/5\n",
    "\n",
    "if ave>= 80:\n",
    "    grade=\"A\"\n",
    "elif ave>= 60:\n",
    "    grade =\"B\"\n",
    "elif ave>= 45:\n",
    "    grade = \"c\"\n",
    "else:\n",
    "    grade = \"F\"\n",
    "\n",
    "sql = f''' INSERT INTO student (name, physics, math, english, chemistry, nepali, total, per, grade) \n",
    "       VALUES ('{name}', {m}, {p}, {n}, {e}, {c}, {total}, {per}, '{grade}')'''\n",
    "db.execute(sql)\n",
    "database.commit()\n",
    "print(db.rowcount, \"record inserted.\")"
   ]
  },
  {
   "cell_type": "code",
   "execution_count": 6,
   "id": "7cb8ff2f",
   "metadata": {},
   "outputs": [],
   "source": [
    "# update sql"
   ]
  },
  {
   "cell_type": "code",
   "execution_count": 8,
   "id": "19745f2a",
   "metadata": {},
   "outputs": [
    {
     "name": "stdout",
     "output_type": "stream",
     "text": [
      "1 record(s) affected\n"
     ]
    }
   ],
   "source": [
    "sql = \"UPDATE student SET name = 'Ram' WHERE sn = 22\"\n",
    "db.execute(sql)\n",
    "database.commit()\n",
    "print(db.rowcount, \"record(s) affected\")"
   ]
  },
  {
   "cell_type": "code",
   "execution_count": 9,
   "id": "d7c9a65d",
   "metadata": {},
   "outputs": [],
   "source": [
    "# delete in sql"
   ]
  },
  {
   "cell_type": "code",
   "execution_count": 11,
   "id": "992f0954",
   "metadata": {},
   "outputs": [
    {
     "name": "stdout",
     "output_type": "stream",
     "text": [
      "1 record(s) deleted\n"
     ]
    }
   ],
   "source": [
    "sql = \"DELETE FROM student WHERE sn = 26 \"\n",
    "db.execute(sql)\n",
    "database.commit()\n",
    "print(db.rowcount, \"record(s) deleted\")"
   ]
  },
  {
   "cell_type": "code",
   "execution_count": 12,
   "id": "ed34ab91",
   "metadata": {},
   "outputs": [
    {
     "name": "stdout",
     "output_type": "stream",
     "text": [
      "(16, 'Bikash', 89, 77, 86, 74, 88, 420, 80.0, 'A')\n",
      "(22, 'Ram', 90, 85, 95, 74, 89, 410, 89.0, 'A')\n",
      "(29, 'Hari', 90, 91, 92, 93, 94, 460, 92.0, 'A')\n"
     ]
    }
   ],
   "source": [
    "# (select)\n",
    "db.execute(\"SELECT * FROM student WHERE grade = 'A'\")\n",
    "result =db.fetchall()\n",
    "for x in result:\n",
    "           print(x)"
   ]
  },
  {
   "cell_type": "code",
   "execution_count": 13,
   "id": "b47492bd",
   "metadata": {},
   "outputs": [
    {
     "name": "stdout",
     "output_type": "stream",
     "text": [
      "(16, 'Bikash', 89, 77, 86, 74, 88, 420, 80.0, 'A')\n",
      "(20, 'Nabina', 98, 46, 56, 76, 56, 420, 66.0, 'B')\n",
      "(22, 'Ram', 90, 85, 95, 74, 89, 410, 89.0, 'A')\n",
      "(23, 'Rabina', 98, 85, 77, 88, 92, 420, 91.0, 'A+')\n",
      "(24, 'Anju', 98, 85, 77, 88, 92, 420, 91.0, 'A+')\n",
      "(25, 'Rabin', 98, 85, 77, 88, 92, 420, 91.0, 'A+')\n",
      "(28, 'Rabin', 98, 85, 77, 88, 92, 420, 91.0, 'A+')\n",
      "(29, 'Hari', 90, 91, 92, 93, 94, 460, 92.0, 'A')\n"
     ]
    }
   ],
   "source": [
    "db.execute(\"SELECT * FROM student WHERE physics > 80\")\n",
    "result =db.fetchall()\n",
    "for x in result:\n",
    "           print(x)"
   ]
  },
  {
   "cell_type": "code",
   "execution_count": 14,
   "id": "2e9b52eb",
   "metadata": {},
   "outputs": [],
   "source": [
    "# search"
   ]
  },
  {
   "cell_type": "code",
   "execution_count": 16,
   "id": "b38082b3",
   "metadata": {},
   "outputs": [
    {
     "name": "stdout",
     "output_type": "stream",
     "text": [
      "(22, 'Ram', 90, 85, 95, 74, 89, 410, 89.0, 'A')\n",
      "(23, 'Rabina', 98, 85, 77, 88, 92, 420, 91.0, 'A+')\n",
      "(25, 'Rabin', 98, 85, 77, 88, 92, 420, 91.0, 'A+')\n",
      "(28, 'Rabin', 98, 85, 77, 88, 92, 420, 91.0, 'A+')\n"
     ]
    }
   ],
   "source": [
    "db.execute(\"SELECT * FROM student WHERE name LIKE '%Ra%'\")\n",
    "result =db.fetchall()\n",
    "for x in result:\n",
    "           print(x)"
   ]
  },
  {
   "cell_type": "code",
   "execution_count": 17,
   "id": "7f391f32",
   "metadata": {},
   "outputs": [
    {
     "name": "stdout",
     "output_type": "stream",
     "text": [
      "(29, 'Hari', 90, 91, 92, 93, 94, 460, 92.0, 'A')\n"
     ]
    }
   ],
   "source": [
    "db.execute(\"SELECT * FROM student WHERE physics > 80 and chemistry > 90\")\n",
    "result =db.fetchall()\n",
    "for x in result:\n",
    "           print(x)"
   ]
  },
  {
   "cell_type": "code",
   "execution_count": 18,
   "id": "5f48ac61",
   "metadata": {},
   "outputs": [
    {
     "name": "stdout",
     "output_type": "stream",
     "text": [
      "(16, 'Bikash', 89, 77, 86, 74, 88, 420, 80.0, 'A')\n",
      "(20, 'Nabina', 98, 46, 56, 76, 56, 420, 66.0, 'B')\n",
      "(22, 'Ram', 90, 85, 95, 74, 89, 410, 89.0, 'A')\n",
      "(23, 'Rabina', 98, 85, 77, 88, 92, 420, 91.0, 'A+')\n",
      "(24, 'Anju', 98, 85, 77, 88, 92, 420, 91.0, 'A+')\n",
      "(25, 'Rabin', 98, 85, 77, 88, 92, 420, 91.0, 'A+')\n",
      "(28, 'Rabin', 98, 85, 77, 88, 92, 420, 91.0, 'A+')\n",
      "(29, 'Hari', 90, 91, 92, 93, 94, 460, 92.0, 'A')\n"
     ]
    }
   ],
   "source": [
    "db.execute(\"SELECT * FROM student WHERE physics >= 80 or chemistry >= 90\")\n",
    "result =db.fetchall()\n",
    "for x in result:\n",
    "           print(x)"
   ]
  },
  {
   "cell_type": "code",
   "execution_count": 19,
   "id": "89d4833a",
   "metadata": {},
   "outputs": [
    {
     "name": "stdout",
     "output_type": "stream",
     "text": [
      "('Bikash', 420, 80.0, 'A')\n",
      "('Nabina', 420, 66.0, 'B')\n",
      "('Shyam', 390, 69.0, 'B')\n",
      "('Ram', 410, 89.0, 'A')\n",
      "('Rabina', 420, 91.0, 'A+')\n",
      "('Anju', 420, 91.0, 'A+')\n",
      "('Rabin', 420, 91.0, 'A+')\n",
      "('Rabin', 420, 91.0, 'A+')\n",
      "('Hari', 460, 92.0, 'A')\n"
     ]
    }
   ],
   "source": [
    "db.execute(\"SELECT name,total,per,grade FROM student\")\n",
    "result =db.fetchall()\n",
    "for x in result:\n",
    "           print(x)"
   ]
  },
  {
   "cell_type": "code",
   "execution_count": 21,
   "id": "d8543257",
   "metadata": {},
   "outputs": [
    {
     "name": "stdout",
     "output_type": "stream",
     "text": [
      "(29, 'Hari', 90, 91, 92, 93, 94, 460, 92.0, 'A')\n",
      "(16, 'Bikash', 89, 77, 86, 74, 88, 420, 80.0, 'A')\n",
      "(20, 'Nabina', 98, 46, 56, 76, 56, 420, 66.0, 'B')\n",
      "(23, 'Rabina', 98, 85, 77, 88, 92, 420, 91.0, 'A+')\n",
      "(24, 'Anju', 98, 85, 77, 88, 92, 420, 91.0, 'A+')\n",
      "(25, 'Rabin', 98, 85, 77, 88, 92, 420, 91.0, 'A+')\n",
      "(28, 'Rabin', 98, 85, 77, 88, 92, 420, 91.0, 'A+')\n",
      "(22, 'Ram', 90, 85, 95, 74, 89, 410, 89.0, 'A')\n",
      "(21, 'Shyam', 69, 55, 75, 72, 79, 390, 69.0, 'B')\n"
     ]
    }
   ],
   "source": [
    "db.execute(\"SELECT * FROM student ORDER BY totala DESC \")\n",
    "result =db.fetchall()\n",
    "for x in result:\n",
    "           print(x)"
   ]
  },
  {
   "cell_type": "code",
   "execution_count": 23,
   "id": "4f5c21d7",
   "metadata": {},
   "outputs": [
    {
     "name": "stdout",
     "output_type": "stream",
     "text": [
      "(29, 'Hari', 90, 91, 92, 93, 94, 460, 92.0, 'A')\n",
      "(16, 'Bikash', 89, 77, 86, 74, 88, 420, 80.0, 'A')\n",
      "(20, 'Nabina', 98, 46, 56, 76, 56, 420, 66.0, 'B')\n",
      "(23, 'Rabina', 98, 85, 77, 88, 92, 420, 91.0, 'A+')\n",
      "(24, 'Anju', 98, 85, 77, 88, 92, 420, 91.0, 'A+')\n"
     ]
    }
   ],
   "source": [
    "db.execute(\"SELECT * FROM student ORDER BY total DESC \")\n",
    "result =db.fetchall()\n",
    "for x in result[0:5]:\n",
    "           print(x)"
   ]
  },
  {
   "cell_type": "code",
   "execution_count": 6,
   "id": "3278ec4b",
   "metadata": {},
   "outputs": [
    {
     "name": "stdout",
     "output_type": "stream",
     "text": [
      "(24, 'Anju', 98, 85, 77, 88, 92, 420, 91.0, 'A+')\n",
      "(16, 'Bikash', 89, 77, 86, 74, 88, 420, 80.0, 'A')\n",
      "(29, 'Hari', 90, 91, 92, 93, 94, 460, 92.0, 'A')\n",
      "(20, 'Nabina', 98, 46, 56, 76, 56, 420, 66.0, 'B')\n",
      "(25, 'Rabin', 98, 85, 77, 88, 92, 420, 91.0, 'A+')\n"
     ]
    }
   ],
   "source": [
    "db.execute(\"SELECT * FROM student ORDER BY name ASC \")\n",
    "result =db.fetchall()\n",
    "for x in result[0:5]:\n",
    "           print(x)"
   ]
  },
  {
   "cell_type": "code",
   "execution_count": null,
   "id": "b22bc748",
   "metadata": {},
   "outputs": [],
   "source": []
  }
 ],
 "metadata": {
  "kernelspec": {
   "display_name": "Python 3 (ipykernel)",
   "language": "python",
   "name": "python3"
  },
  "language_info": {
   "codemirror_mode": {
    "name": "ipython",
    "version": 3
   },
   "file_extension": ".py",
   "mimetype": "text/x-python",
   "name": "python",
   "nbconvert_exporter": "python",
   "pygments_lexer": "ipython3",
   "version": "3.11.7"
  }
 },
 "nbformat": 4,
 "nbformat_minor": 5
}
