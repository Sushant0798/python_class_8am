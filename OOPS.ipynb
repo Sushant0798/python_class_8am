{
 "cells": [
  {
   "cell_type": "code",
   "execution_count": 1,
   "id": "aef15e24",
   "metadata": {},
   "outputs": [],
   "source": [
    "# OOPS in python"
   ]
  },
  {
   "cell_type": "code",
   "execution_count": 2,
   "id": "ea4dab9a",
   "metadata": {},
   "outputs": [],
   "source": [
    "#class <name>:\n",
    "    #<methodes>\n",
    "    \n",
    "#<name>()"
   ]
  },
  {
   "cell_type": "code",
   "execution_count": 6,
   "id": "e5672f24",
   "metadata": {},
   "outputs": [
    {
     "name": "stdout",
     "output_type": "stream",
     "text": [
      "Hello World\n"
     ]
    }
   ],
   "source": [
    "class Hello:\n",
    "    def hello(self):\n",
    "        print(\"Hello World\")\n",
    "              \n",
    "obj = Hello()\n",
    "obj.hello()"
   ]
  },
  {
   "cell_type": "code",
   "execution_count": 7,
   "id": "15ce0658",
   "metadata": {},
   "outputs": [
    {
     "name": "stdout",
     "output_type": "stream",
     "text": [
      "Hello World\n"
     ]
    }
   ],
   "source": [
    "class Hello:\n",
    "    @staticmethod\n",
    "    def hello():\n",
    "        print(\"Hello World\")\n",
    "              \n",
    "obj = Hello()\n",
    "obj.hello()"
   ]
  },
  {
   "cell_type": "code",
   "execution_count": 8,
   "id": "872bdd35",
   "metadata": {},
   "outputs": [
    {
     "name": "stdout",
     "output_type": "stream",
     "text": [
      "emter the l: 20\n",
      "enter the b: 10\n",
      "200\n"
     ]
    }
   ],
   "source": [
    "class cal:\n",
    "    def area(self):\n",
    "        l = int(input(\"emter the l: \"))\n",
    "        b = int(input(\"enter the b: \"))\n",
    "        a = l*b\n",
    "        print(a)\n",
    "              \n",
    "obj = cal()\n",
    "obj.area()"
   ]
  },
  {
   "cell_type": "code",
   "execution_count": 3,
   "id": "c7938426",
   "metadata": {},
   "outputs": [
    {
     "name": "stdout",
     "output_type": "stream",
     "text": [
      "Enter h: 2\n",
      "emter the l: 20\n",
      "enter the b: 10\n",
      "400\n"
     ]
    }
   ],
   "source": [
    "class cal:\n",
    "    def volume(self,h):\n",
    "        l = int(input(\"emter the l: \"))\n",
    "        b = int(input(\"enter the b: \"))\n",
    "        v = l*b*h\n",
    "        print(v)\n",
    "              \n",
    "obj = cal()\n",
    "h = int(input(\"Enter h: \"))\n",
    "obj.volume(h)"
   ]
  },
  {
   "cell_type": "code",
   "execution_count": 8,
   "id": "31904e85",
   "metadata": {},
   "outputs": [
    {
     "name": "stdout",
     "output_type": "stream",
     "text": [
      "enter the l: 20\n",
      "enter the b: 10\n",
      "enter the h: 22\n",
      "4400\n"
     ]
    }
   ],
   "source": [
    "class cal:\n",
    "    def __init__(self):\n",
    "        self.l = int(input(\"enter the l: \"))\n",
    "        self.b = int(input(\"enter the b: \"))\n",
    "        self.h = int(input(\"enter the h: \"))\n",
    "        \n",
    "        \n",
    "    def volume(self):\n",
    "        v = self.l*self.b*self.h\n",
    "        print(v)\n",
    "              \n",
    "obj = cal()\n",
    "obj.volume()"
   ]
  },
  {
   "cell_type": "code",
   "execution_count": 10,
   "id": "e0da4097",
   "metadata": {},
   "outputs": [
    {
     "name": "stdout",
     "output_type": "stream",
     "text": [
      "Ener name: Ram\n",
      "Enter age: 22\n",
      "Enter add: Kathmandu\n",
      "Ram Kathmandu\n",
      "Hello world I am Ram. I am 22. I am from Kathmandu\n"
     ]
    }
   ],
   "source": [
    "class Info:\n",
    "    def __init__(self):\n",
    "        self.name = input(\"Ener name: \")\n",
    "        self.age = int(input(\"Enter age: \"))\n",
    "        self.add = input(\"Enter add: \")\n",
    "    def data(self):\n",
    "        print(self.name,self.add)\n",
    "        \n",
    "    def info(self):\n",
    "        print(f\"Hello world I am {self.name}. I am {self.age}. I am from {self.add}\")\n",
    "        \n",
    "        \n",
    "        \n",
    "obj = Info()\n",
    "obj.data()\n",
    "obj.info()"
   ]
  },
  {
   "cell_type": "code",
   "execution_count": 13,
   "id": "d53c96c5",
   "metadata": {},
   "outputs": [
    {
     "name": "stdout",
     "output_type": "stream",
     "text": [
      "Ener name: Hari\n",
      "Enter age: 44\n",
      "Enter add: Kathmandu\n",
      "Hari Kathmandu\n",
      "Hello world I am Hari. I am 44. I am from Kathmandu\n"
     ]
    }
   ],
   "source": [
    "class Info:\n",
    "    def __init__(self,name,age,add):\n",
    "        self.n = name\n",
    "        self.a = age\n",
    "        self.ad = add\n",
    "    \n",
    "    def data(self):\n",
    "        print(self.n,self.ad)\n",
    "        \n",
    "    def info(self):\n",
    "        print(f\"Hello world I am {self.n}. I am {self.a}. I am from {self.ad}\")\n",
    "        \n",
    "name = input(\"Ener name: \")\n",
    "age = int(input(\"Enter age: \"))\n",
    "add = input(\"Enter add: \")\n",
    "\n",
    "        \n",
    "obj = Info(name,age,add)\n",
    "obj.data()\n",
    "obj.info()"
   ]
  },
  {
   "cell_type": "code",
   "execution_count": null,
   "id": "16055cb7",
   "metadata": {},
   "outputs": [],
   "source": []
  },
  {
   "cell_type": "code",
   "execution_count": null,
   "id": "105e3b60",
   "metadata": {},
   "outputs": [],
   "source": []
  },
  {
   "cell_type": "code",
   "execution_count": null,
   "id": "6f79b2a6",
   "metadata": {},
   "outputs": [],
   "source": []
  },
  {
   "cell_type": "code",
   "execution_count": null,
   "id": "a0f87fe9",
   "metadata": {},
   "outputs": [],
   "source": []
  }
 ],
 "metadata": {
  "kernelspec": {
   "display_name": "Python 3 (ipykernel)",
   "language": "python",
   "name": "python3"
  },
  "language_info": {
   "codemirror_mode": {
    "name": "ipython",
    "version": 3
   },
   "file_extension": ".py",
   "mimetype": "text/x-python",
   "name": "python",
   "nbconvert_exporter": "python",
   "pygments_lexer": "ipython3",
   "version": "3.11.7"
  }
 },
 "nbformat": 4,
 "nbformat_minor": 5
}
