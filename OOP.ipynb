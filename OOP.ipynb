{
 "cells": [
  {
   "cell_type": "code",
   "execution_count": 2,
   "id": "6274372f",
   "metadata": {},
   "outputs": [
    {
     "ename": "SyntaxError",
     "evalue": "invalid syntax (2582159615.py, line 1)",
     "output_type": "error",
     "traceback": [
      "\u001b[1;36m  Cell \u001b[1;32mIn[2], line 1\u001b[1;36m\u001b[0m\n\u001b[1;33m    class <class_name>:\u001b[0m\n\u001b[1;37m          ^\u001b[0m\n\u001b[1;31mSyntaxError\u001b[0m\u001b[1;31m:\u001b[0m invalid syntax\n"
     ]
    }
   ],
   "source": [
    "class <class_name>:\n",
    "    <methods>\n",
    "\n",
    "class<class_name2>(<class_name1>):\n",
    "    <methods>\n",
    "    \n",
    "obj = <class_name2>()"
   ]
  },
  {
   "cell_type": "code",
   "execution_count": null,
   "id": "16190191",
   "metadata": {},
   "outputs": [],
   "source": [
    "class A:      # parent class\n",
    "    pass\n",
    "\n",
    "class B(A):   # child class\n",
    "    pass\n",
    "\n",
    "obj = ()"
   ]
  },
  {
   "cell_type": "code",
   "execution_count": null,
   "id": "b15a65d9",
   "metadata": {},
   "outputs": [],
   "source": [
    "class Data: \n",
    "    def __init__(self):\n",
    "        self.name = \"Ram\"\n",
    "        self.age  = 34\n",
    "        self.add = \"Kathmandu\"\n",
    "        \n",
    "    def data(self):\n",
    "        print(self.name,self.age,self.add)\n",
    "class Info(Data):\n",
    "    def info(self):\n",
    "        print(f\"Hello my name is {self.name}. I am {self.age}. I am from {self.add}\")\n",
    "        \n",
    "        \n",
    "obj = Info()\n",
    "obj.info()\n",
    "obj.data()"
   ]
  },
  {
   "cell_type": "code",
   "execution_count": null,
   "id": "eed11575",
   "metadata": {},
   "outputs": [],
   "source": [
    "class Data: \n",
    "    def __init__(self,name,age,add):\n",
    "        self.name = name\n",
    "        self.age  = age\n",
    "        self.add = add\n",
    "        \n",
    "    def data(self):\n",
    "        print(self.name,self.age,self.add)\n",
    "        \n",
    "        \n",
    "class Info(Data):\n",
    "    def info(self):\n",
    "        print(f\"Hello my name is {self.name}. I am {self.age}. I am from {self.add}\")\n",
    "        \n",
    "        \n",
    "name = input(\"Enter name: \") \n",
    "age = int(input(\"Enter age: \"))\n",
    "add = input(\"Enter add: \")\n",
    "\n",
    "obj.info()\n",
    "obj.data()"
   ]
  },
  {
   "cell_type": "code",
   "execution_count": null,
   "id": "c813d59e",
   "metadata": {},
   "outputs": [],
   "source": [
    "class Data: \n",
    "    def __init__(self,add):\n",
    "        self.add = add\n",
    "        \n",
    "    def data(self):\n",
    "        print(self.add)\n",
    "        \n",
    "        \n",
    "class Info(Data):\n",
    "    def __init__(self,name,age,add):\n",
    "        self.name = name\n",
    "        self.age  = age\n",
    "        Data.__init__(self,add)\n",
    "        \n",
    "        \n",
    "    def info(self):\n",
    "        print(f\"Hello my name is {self.name}. I am {self.age}. I am from {self.add}\")\n",
    "        \n",
    "        \n",
    "name = input(\"Enter name: \") \n",
    "age = int(input(\"Enter age: \"))\n",
    "add = input(\"Enter add: \")\n",
    "\n",
    "obj = Info(name,age,add)\n",
    "obj.info()\n",
    "obj.data()"
   ]
  },
  {
   "cell_type": "code",
   "execution_count": null,
   "id": "55aa4fdf",
   "metadata": {},
   "outputs": [],
   "source": [
    "# multi level inheritance\n",
    "class A:\n",
    "    pass\n",
    "\n",
    "class B:\n",
    "    pass\n",
    "\n",
    "class C(A,B): \n",
    "    pass\n",
    "\n",
    "obj = c()"
   ]
  },
  {
   "cell_type": "code",
   "execution_count": null,
   "id": "452e4c05",
   "metadata": {},
   "outputs": [],
   "source": [
    "class Age: \n",
    "    def __init__(self,age):\n",
    "        self.age = age\n",
    "    def my_age(self):\n",
    "        print(self.age)\n",
    "class Data(Age): \n",
    "    def __init__(self,age,add):\n",
    "        self.add = add\n",
    "        Age.__init__(self,age)\n",
    "        \n",
    "    def data(self):\n",
    "        print(self.add)\n",
    "        \n",
    "        \n",
    "class Info(Data):\n",
    "    def __init__(self,name,age,add):\n",
    "        self.name = name\n",
    "        Data.__init__(self,age,add)\n",
    "        \n",
    "        \n",
    "    def info(self):\n",
    "        print(f\"Hello my name is {self.name}. I am {self.age}. I am from {self.add}\")\n",
    "        \n",
    "        \n",
    "name = input(\"Enter name: \") \n",
    "age = int(input(\"Enter age: \"))\n",
    "add = input(\"Enter add: \")\n",
    "\n",
    "obj = Info(name,age,add)\n",
    "obj.info()\n",
    "obj.data()\n",
    "obj.my_age()"
   ]
  },
  {
   "cell_type": "code",
   "execution_count": null,
   "id": "a45c4193",
   "metadata": {},
   "outputs": [],
   "source": [
    "# multipal"
   ]
  },
  {
   "cell_type": "code",
   "execution_count": 3,
   "id": "02f7928d",
   "metadata": {},
   "outputs": [
    {
     "name": "stdout",
     "output_type": "stream",
     "text": [
      "Enter name: Ram\n",
      "Enter age: 22\n",
      "Enter add: KTM\n",
      "Hello my name is Ram. I am 22. I am from KTM\n",
      "KTM\n",
      "22\n"
     ]
    }
   ],
   "source": [
    "class Age: \n",
    "    def __init__(self,age):\n",
    "        self.age = age\n",
    "    def my_age(self):\n",
    "        print(self.age)\n",
    "        \n",
    "    \n",
    "class Data: \n",
    "    def __init__(self,add):\n",
    "        self.add = add\n",
    "        \n",
    "    def data(self):\n",
    "        print(self.add)\n",
    "        \n",
    "        \n",
    "class Info(Age,Data):\n",
    "    def __init__(self,name,age,add):\n",
    "        self.name = name\n",
    "        Data.__init__(self,add)\n",
    "        Age.__init__(self,age)\n",
    "        \n",
    "        \n",
    "    def info(self):\n",
    "        print(f\"Hello my name is {self.name}. I am {self.age}. I am from {self.add}\")\n",
    "        \n",
    "name = input(\"Enter name: \") \n",
    "age = int(input(\"Enter age: \"))\n",
    "add = input(\"Enter add: \")\n",
    "\n",
    "obj = Info(name,age,add)\n",
    "obj.info()\n",
    "\n",
    "obj.data()\n",
    "obj.my_age()"
   ]
  },
  {
   "cell_type": "code",
   "execution_count": null,
   "id": "52ad2346",
   "metadata": {},
   "outputs": [],
   "source": []
  },
  {
   "cell_type": "code",
   "execution_count": null,
   "id": "e5bdf3c8",
   "metadata": {},
   "outputs": [],
   "source": []
  }
 ],
 "metadata": {
  "kernelspec": {
   "display_name": "Python 3 (ipykernel)",
   "language": "python",
   "name": "python3"
  },
  "language_info": {
   "codemirror_mode": {
    "name": "ipython",
    "version": 3
   },
   "file_extension": ".py",
   "mimetype": "text/x-python",
   "name": "python",
   "nbconvert_exporter": "python",
   "pygments_lexer": "ipython3",
   "version": "3.11.7"
  }
 },
 "nbformat": 4,
 "nbformat_minor": 5
}
