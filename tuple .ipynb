{
 "cells": [
  {
   "cell_type": "code",
   "execution_count": 1,
   "id": "8d75ddf6",
   "metadata": {},
   "outputs": [],
   "source": [
    "#tuple\n",
    "-indexting\n",
    "-multiple and duplicate\n",
    "-Ordered\n",
    "-Imputable"
   ]
  },
  {
   "cell_type": "code",
   "execution_count": 2,
   "id": "325f5b79",
   "metadata": {},
   "outputs": [
    {
     "name": "stdout",
     "output_type": "stream",
     "text": [
      "<class 'tuple'>\n"
     ]
    }
   ],
   "source": [
    "t = tuple()\n",
    "a = (1,2,3,4,5,6,7,8,9)\n",
    "b  = ('apple','ball','cat')\n",
    "print(type(a))"
   ]
  },
  {
   "cell_type": "code",
   "execution_count": 4,
   "id": "9f6ced91",
   "metadata": {},
   "outputs": [
    {
     "data": {
      "text/plain": [
       "tuple"
      ]
     },
     "execution_count": 4,
     "metadata": {},
     "output_type": "execute_result"
    }
   ],
   "source": [
    "t = ('apple',)\n",
    "type(t)"
   ]
  },
  {
   "cell_type": "code",
   "execution_count": 6,
   "id": "510c6777",
   "metadata": {},
   "outputs": [
    {
     "name": "stdout",
     "output_type": "stream",
     "text": [
      "apple\n",
      "('apple', 'ball')\n",
      "('apple', 'cat')\n"
     ]
    }
   ],
   "source": [
    "b  = ('apple','ball','cat')\n",
    "print(b[0])\n",
    "print(b[0:2])\n",
    "print(b[0:3:2])\n"
   ]
  },
  {
   "cell_type": "code",
   "execution_count": null,
   "id": "81db6eb2",
   "metadata": {},
   "outputs": [],
   "source": [
    "no append() insert() extend()\n",
    "no update\n",
    "no delete\n",
    "no sort()"
   ]
  },
  {
   "cell_type": "code",
   "execution_count": 7,
   "id": "495e102c",
   "metadata": {},
   "outputs": [
    {
     "name": "stdout",
     "output_type": "stream",
     "text": [
      "(1, 2, 3, 4, 5, 6, 7, 8, 9)\n"
     ]
    }
   ],
   "source": [
    "a = (1,2,3,4,5)\n",
    "b = (6,7,8,9)\n",
    "c = a+b\n",
    "print(c)"
   ]
  },
  {
   "cell_type": "code",
   "execution_count": 8,
   "id": "fedd4602",
   "metadata": {},
   "outputs": [
    {
     "name": "stdout",
     "output_type": "stream",
     "text": [
      "enter n: 3\n",
      "enter x: 4\n",
      "enter x: 5\n",
      "enter x: 5\n",
      "(4, 5, 5)\n"
     ]
    }
   ],
   "source": [
    "t = ()\n",
    "n = int(input(\"enter n: \"))\n",
    "for i in range(n):\n",
    "    x = int(input(\"enter x: \"))\n",
    "    t = t + (x,)\n",
    "    \n",
    "print(t)"
   ]
  },
  {
   "cell_type": "code",
   "execution_count": 9,
   "id": "84965105",
   "metadata": {},
   "outputs": [
    {
     "name": "stdout",
     "output_type": "stream",
     "text": [
      "2\n",
      "8\n",
      "30\n"
     ]
    },
    {
     "data": {
      "text/plain": [
       "[2, 3, 4, 5, 6, 7, 8]"
      ]
     },
     "execution_count": 9,
     "metadata": {},
     "output_type": "execute_result"
    }
   ],
   "source": [
    "a = (2,3,4,5,6,7,8)\n",
    "print(min(a))\n",
    "print(max(a))\n",
    "print(sum(b))\n",
    "sorted(a)"
   ]
  },
  {
   "cell_type": "code",
   "execution_count": null,
   "id": "62658e91",
   "metadata": {},
   "outputs": [],
   "source": [
    "#tupe to list"
   ]
  },
  {
   "cell_type": "code",
   "execution_count": 10,
   "id": "e65f6114",
   "metadata": {},
   "outputs": [
    {
     "data": {
      "text/plain": [
       "('ball', 'cat')"
      ]
     },
     "execution_count": 10,
     "metadata": {},
     "output_type": "execute_result"
    }
   ],
   "source": [
    "b  = ('apple','ball','cat')\n",
    "c = list(b)\n",
    "del c[0]\n",
    "b = tuple(c)\n",
    "b"
   ]
  },
  {
   "cell_type": "code",
   "execution_count": null,
   "id": "dec9f912",
   "metadata": {},
   "outputs": [],
   "source": [
    "# tuple inside tuple"
   ]
  },
  {
   "cell_type": "code",
   "execution_count": 14,
   "id": "87187aa7",
   "metadata": {},
   "outputs": [
    {
     "name": "stdout",
     "output_type": "stream",
     "text": [
      "Enter n: 2\n",
      "enter name: Ram\n",
      "enter age: 33\n",
      "enter add: Kathmandu\n",
      "enter name: Shyam\n",
      "enter age: 22\n",
      "enter add: lalitpur\n",
      "(('Ram', 33, 'Kathmandu'), ('Shyam', 22, 'lalitpur'))\n"
     ]
    }
   ],
   "source": [
    "info = ()\n",
    "n = int(input(\"Enter n: \"))\n",
    "for i in range(1,n+1):\n",
    "    name = input(\"enter name: \")\n",
    "    age = int(input(\"enter age: \"))\n",
    "    add = input(\"enter add: \")\n",
    "    info = info + ((name,age,add),)\n",
    "    \n",
    "print(info)"
   ]
  },
  {
   "cell_type": "code",
   "execution_count": null,
   "id": "e48af2bb",
   "metadata": {},
   "outputs": [],
   "source": []
  }
 ],
 "metadata": {
  "kernelspec": {
   "display_name": "Python 3 (ipykernel)",
   "language": "python",
   "name": "python3"
  },
  "language_info": {
   "codemirror_mode": {
    "name": "ipython",
    "version": 3
   },
   "file_extension": ".py",
   "mimetype": "text/x-python",
   "name": "python",
   "nbconvert_exporter": "python",
   "pygments_lexer": "ipython3",
   "version": "3.11.7"
  }
 },
 "nbformat": 4,
 "nbformat_minor": 5
}
