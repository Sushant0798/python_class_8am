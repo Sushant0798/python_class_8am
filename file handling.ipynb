{
 "cells": [
  {
   "cell_type": "code",
   "execution_count": 4,
   "id": "d2ba9dd6",
   "metadata": {},
   "outputs": [],
   "source": [
    "# file = open('<file name>','mode')\n",
    "# with open(\"<file name>\",'mode')as file\n",
    "#      <operation>"
   ]
  },
  {
   "cell_type": "code",
   "execution_count": null,
   "id": "de66127b",
   "metadata": {},
   "outputs": [],
   "source": [
    "# mode\n",
    "# r = read\n",
    "# x = create\n",
    "# w =write\n",
    "# a = append"
   ]
  },
  {
   "cell_type": "code",
   "execution_count": 2,
   "id": "0bb42e46",
   "metadata": {},
   "outputs": [],
   "source": [
    "# creat file\n",
    "file = open('data.txt','x')\n",
    "file.close()"
   ]
  },
  {
   "cell_type": "code",
   "execution_count": 3,
   "id": "a478f439",
   "metadata": {},
   "outputs": [
    {
     "name": "stdout",
     "output_type": "stream",
     "text": [
      "1. Hello world\n",
      "2. Hello world\n",
      "3. Hello world\n",
      "4. Hello world\n",
      "5. Hello world\n"
     ]
    }
   ],
   "source": [
    "# read file\n",
    "file = open('data.txt','r')\n",
    "content = file.read()\n",
    "print(content)\n",
    "file.close()"
   ]
  },
  {
   "cell_type": "code",
   "execution_count": 7,
   "id": "fc514c38",
   "metadata": {},
   "outputs": [
    {
     "data": {
      "text/plain": [
       "['apple', 'ball', 'cat']"
      ]
     },
     "execution_count": 7,
     "metadata": {},
     "output_type": "execute_result"
    }
   ],
   "source": [
    "a = 'apple-ball-cat'\n",
    "a.split('-')"
   ]
  },
  {
   "cell_type": "code",
   "execution_count": 8,
   "id": "747826d9",
   "metadata": {},
   "outputs": [
    {
     "data": {
      "text/plain": [
       "'1. Hello world\\n2. Hello world\\n3. Hello world\\n4. Hello world\\n5. Hello world'"
      ]
     },
     "execution_count": 8,
     "metadata": {},
     "output_type": "execute_result"
    }
   ],
   "source": [
    "content"
   ]
  },
  {
   "cell_type": "code",
   "execution_count": 11,
   "id": "19a25b52",
   "metadata": {},
   "outputs": [
    {
     "data": {
      "text/plain": [
       "['1. Hello world',\n",
       " '2. Hello world',\n",
       " '3. Hello world',\n",
       " '4. Hello world',\n",
       " '5. Hello world']"
      ]
     },
     "execution_count": 11,
     "metadata": {},
     "output_type": "execute_result"
    }
   ],
   "source": [
    "lines =content.split('\\n')\n",
    "lines"
   ]
  },
  {
   "cell_type": "code",
   "execution_count": 12,
   "id": "e3420407",
   "metadata": {},
   "outputs": [
    {
     "name": "stdout",
     "output_type": "stream",
     "text": [
      "enter line no: 2\n"
     ]
    },
    {
     "data": {
      "text/plain": [
       "'2. Hello world'"
      ]
     },
     "execution_count": 12,
     "metadata": {},
     "output_type": "execute_result"
    }
   ],
   "source": [
    "line_no = int(input('enter line no: '))\n",
    "lines[line_no-1]"
   ]
  },
  {
   "cell_type": "code",
   "execution_count": 13,
   "id": "ecc7177f",
   "metadata": {},
   "outputs": [],
   "source": [
    "# wrtie on file\n",
    "file = open('data1.txt','w')\n",
    "file.write('hello world')\n",
    "file.close()"
   ]
  },
  {
   "cell_type": "code",
   "execution_count": 15,
   "id": "82e07315",
   "metadata": {},
   "outputs": [
    {
     "name": "stdout",
     "output_type": "stream",
     "text": [
      "enter amount: 2\n",
      "\n",
      "enter object: apple\n",
      "\n",
      "enter quantiti: 2\n",
      "\n",
      "amount: 300\n"
     ]
    },
    {
     "ename": "TypeError",
     "evalue": "can only concatenate str (not \"int\") to str",
     "output_type": "error",
     "traceback": [
      "\u001b[1;31m---------------------------------------------------------------------------\u001b[0m",
      "\u001b[1;31mTypeError\u001b[0m                                 Traceback (most recent call last)",
      "Cell \u001b[1;32mIn[15], line 10\u001b[0m\n\u001b[0;32m      7\u001b[0m     a \u001b[38;5;241m=\u001b[39m (q \u001b[38;5;241m*\u001b[39m t)\n\u001b[0;32m      9\u001b[0m     total\u001b[38;5;241m=\u001b[39m total \u001b[38;5;241m+\u001b[39m \u001b[38;5;124mf\u001b[39m\u001b[38;5;124m\"\u001b[39m\u001b[38;5;132;01m{\u001b[39;00mo\u001b[38;5;132;01m}\u001b[39;00m\u001b[38;5;124m \u001b[39m\u001b[38;5;132;01m{\u001b[39;00mq\u001b[38;5;132;01m}\u001b[39;00m\u001b[38;5;124m \u001b[39m\u001b[38;5;132;01m{\u001b[39;00ma\u001b[38;5;132;01m}\u001b[39;00m\u001b[38;5;130;01m\\n\u001b[39;00m\u001b[38;5;124m\"\u001b[39m\n\u001b[1;32m---> 10\u001b[0m     all_total \u001b[38;5;241m=\u001b[39m all_total \u001b[38;5;241m+\u001b[39m a\n\u001b[0;32m     12\u001b[0m file \u001b[38;5;241m=\u001b[39m \u001b[38;5;28mopen\u001b[39m(\u001b[38;5;124m'\u001b[39m\u001b[38;5;124mbill.txt\u001b[39m\u001b[38;5;124m'\u001b[39m,\u001b[38;5;124m'\u001b[39m\u001b[38;5;124mw\u001b[39m\u001b[38;5;124m'\u001b[39m)\n\u001b[0;32m     13\u001b[0m file\u001b[38;5;241m.\u001b[39mwrite(bill)\n",
      "\u001b[1;31mTypeError\u001b[0m: can only concatenate str (not \"int\") to str"
     ]
    }
   ],
   "source": [
    "all_total = \" \"\n",
    "A = int(input(\"enter amount: \"))\n",
    "for i in range(A):\n",
    "    o = input('\\nenter object: ')\n",
    "    q = int(input(\"\\nenter quantiti: \"))\n",
    "    t = int(input(\"\\namount: \"))\n",
    "    a = (q * t)\n",
    "    \n",
    "    total= total + f\"{o} {q} {a}\\n\"\n",
    "    all_total = all_total + a\n",
    "    \n",
    "file = open('bill.txt','w')\n",
    "file.write(bill)\n",
    "file.close()"
   ]
  },
  {
   "cell_type": "code",
   "execution_count": 22,
   "id": "55ff4b91",
   "metadata": {},
   "outputs": [
    {
     "name": "stdout",
     "output_type": "stream",
     "text": [
      "enter amount: 2\n",
      "\n",
      "enter object: apple\n",
      "\n",
      "enter quantiti: 2\n",
      "\n",
      "amount: 300\n",
      "\n",
      "enter object: banana\n",
      "\n",
      "enter quantiti: 2\n",
      "\n",
      "amount: 100\n"
     ]
    }
   ],
   "source": [
    "bill = \" \"\n",
    "total = \" \"\n",
    "A = int(input(\"enter amount: \"))\n",
    "for i in range(A):\n",
    "    o = input('\\nenter object: ')\n",
    "    q = int(input(\"\\nenter quantiti: \"))\n",
    "    t = int(input(\"\\namount: \"))\n",
    "    a = (q * t)\n",
    "    \n",
    "    bill= bill + str(o) +\" \" + str(q) +\" \" +  str(a) + \"\\n\"\n",
    "\n",
    "    \n",
    "file = open('bill.txt','w')\n",
    "file.write(bill)\n",
    "file.close()"
   ]
  },
  {
   "cell_type": "code",
   "execution_count": 23,
   "id": "6e70abbe",
   "metadata": {},
   "outputs": [
    {
     "name": "stdout",
     "output_type": "stream",
     "text": [
      " apple 2 600\n",
      "banana 2 200\n",
      "\n"
     ]
    }
   ],
   "source": [
    "file = open('bill.txt','r')\n",
    "content = file.read()\n",
    "print(content)\n",
    "file.close()"
   ]
  },
  {
   "cell_type": "code",
   "execution_count": 24,
   "id": "033c6bd4",
   "metadata": {},
   "outputs": [
    {
     "data": {
      "text/plain": [
       "[' apple 2 600', 'banana 2 200']"
      ]
     },
     "execution_count": 24,
     "metadata": {},
     "output_type": "execute_result"
    }
   ],
   "source": [
    "data = content.split('\\n')[:-1]\n",
    "data"
   ]
  },
  {
   "cell_type": "code",
   "execution_count": 43,
   "id": "1bfa297b",
   "metadata": {},
   "outputs": [
    {
     "data": {
      "text/plain": [
       "[['apple', 2, 600], ['banana', 2, 200]]"
      ]
     },
     "execution_count": 43,
     "metadata": {},
     "output_type": "execute_result"
    }
   ],
   "source": [
    "list_bill =[]\n",
    "for i in data:\n",
    "    x = i.split()\n",
    "    x[1] = int(x[1])\n",
    "    x[2] = int(x[2])\n",
    "    list_bill.append(x)\n",
    "    \n",
    "list_bill\n"
   ]
  },
  {
   "cell_type": "code",
   "execution_count": 45,
   "id": "e913d311",
   "metadata": {},
   "outputs": [],
   "source": [
    " del list_bill[1]"
   ]
  },
  {
   "cell_type": "code",
   "execution_count": 46,
   "id": "66ea161c",
   "metadata": {},
   "outputs": [
    {
     "data": {
      "text/plain": [
       "[['apple', 2, 600]]"
      ]
     },
     "execution_count": 46,
     "metadata": {},
     "output_type": "execute_result"
    }
   ],
   "source": [
    "list_bill"
   ]
  },
  {
   "cell_type": "code",
   "execution_count": 44,
   "id": "fb1656dd",
   "metadata": {},
   "outputs": [],
   "source": [
    "# writeing list into file\n",
    "import csv\n",
    "file = open('bill2.txt','w')\n",
    "x = csv.writer(file)\n",
    "x.writerows(list_bill)\n",
    "file.close()"
   ]
  },
  {
   "cell_type": "code",
   "execution_count": 39,
   "id": "105cd645",
   "metadata": {},
   "outputs": [],
   "source": [
    "# append mode in file"
   ]
  },
  {
   "cell_type": "code",
   "execution_count": 47,
   "id": "b9096162",
   "metadata": {},
   "outputs": [],
   "source": []
  },
  {
   "cell_type": "code",
   "execution_count": 53,
   "id": "6b5b834a",
   "metadata": {},
   "outputs": [
    {
     "name": "stdout",
     "output_type": "stream",
     "text": [
      "enter n: 2\n",
      "enter nane:ram\n",
      "Enter age: 33\n",
      "enter add : rr\n",
      "enter nane:shyam\n",
      "Enter age: 33\n",
      "enter add : fa\n"
     ]
    }
   ],
   "source": [
    "file = open('info22','a')\n",
    "info = \"\"\n",
    "n = int(input('enter n: '))\n",
    "for i in range(n):\n",
    "    name = input('enter nane:')\n",
    "    age = int(input(\"Enter age: \"))\n",
    "    add = input('enter add : ')\n",
    "    info = info + f\"{name} {age} {add}\\n\"\n",
    "file.write(info)\n",
    "file.close()"
   ]
  },
  {
   "cell_type": "code",
   "execution_count": 49,
   "id": "85c5e278",
   "metadata": {},
   "outputs": [],
   "source": []
  },
  {
   "cell_type": "code",
   "execution_count": null,
   "id": "7007e1f4",
   "metadata": {},
   "outputs": [],
   "source": []
  }
 ],
 "metadata": {
  "kernelspec": {
   "display_name": "Python 3 (ipykernel)",
   "language": "python",
   "name": "python3"
  },
  "language_info": {
   "codemirror_mode": {
    "name": "ipython",
    "version": 3
   },
   "file_extension": ".py",
   "mimetype": "text/x-python",
   "name": "python",
   "nbconvert_exporter": "python",
   "pygments_lexer": "ipython3",
   "version": "3.11.7"
  }
 },
 "nbformat": 4,
 "nbformat_minor": 5
}
