{
 "cells": [
  {
   "cell_type": "code",
   "execution_count": 3,
   "id": "130eb00e",
   "metadata": {},
   "outputs": [],
   "source": [
    "# for loop \n",
    "# while loop"
   ]
  },
  {
   "cell_type": "code",
   "execution_count": 10,
   "id": "caf7ace4",
   "metadata": {},
   "outputs": [
    {
     "name": "stdout",
     "output_type": "stream",
     "text": [
      "2\n",
      "11\n",
      "20\n",
      "29\n",
      "38\n",
      "47\n",
      "56\n",
      "65\n",
      "74\n",
      "83\n",
      "92\n"
     ]
    }
   ],
   "source": [
    "for i in range(2,100,3*3): # range = creat sequence of no\n",
    "    print(i)\n",
    "    "
   ]
  },
  {
   "cell_type": "code",
   "execution_count": 12,
   "id": "953015ec",
   "metadata": {},
   "outputs": [
    {
     "name": "stdout",
     "output_type": "stream",
     "text": [
      "hello \n",
      "hello \n",
      "hello \n",
      "hello \n",
      "hello \n"
     ]
    }
   ],
   "source": [
    "for i in range(5): # range = creat sequence of no\n",
    "    print(\"hello \")\n",
    "    "
   ]
  },
  {
   "cell_type": "code",
   "execution_count": 19,
   "id": "f453e772",
   "metadata": {},
   "outputs": [
    {
     "name": "stdout",
     "output_type": "stream",
     "text": [
      "0\n",
      "5\n",
      "10\n",
      "15\n",
      "20\n",
      "25\n",
      "30\n",
      "35\n",
      "40\n",
      "45\n",
      "50\n"
     ]
    }
   ],
   "source": [
    "for i in range(11):\n",
    "    print(i * 5)"
   ]
  },
  {
   "cell_type": "code",
   "execution_count": 21,
   "id": "95b44597",
   "metadata": {},
   "outputs": [
    {
     "name": "stdout",
     "output_type": "stream",
     "text": [
      "enter the value of x: 200\n",
      "200 * 0 = 0\n",
      "200 * 1 = 200\n",
      "200 * 2 = 400\n",
      "200 * 3 = 600\n",
      "200 * 4 = 800\n",
      "200 * 5 = 1000\n",
      "200 * 6 = 1200\n",
      "200 * 7 = 1400\n",
      "200 * 8 = 1600\n",
      "200 * 9 = 1800\n",
      "200 * 10 = 2000\n"
     ]
    }
   ],
   "source": [
    "x = int(input(\"enter the value of x: \"))\n",
    "for i in range(11):\n",
    "    print(x,\"*\",i,\"=\",i*x)"
   ]
  },
  {
   "cell_type": "code",
   "execution_count": 5,
   "id": "a97f1e91",
   "metadata": {},
   "outputs": [
    {
     "name": "stdout",
     "output_type": "stream",
     "text": [
      "enter the value of x: 1000\n",
      "total amount: 1000\n",
      "enter the value of x: 1000\n",
      "total amount: 2000\n",
      "enter the value of x: 1000\n",
      "total amount: 3000\n",
      "enter the value of x: 1000\n",
      "total amount: 4000\n",
      "enter the value of x: 1000\n",
      "total amount: 5000\n"
     ]
    }
   ],
   "source": [
    "abc= 0\n",
    "for i in range(5):\n",
    "    x = int(input('enter the value of x: '))\n",
    "    abc = abc+ x\n",
    "    print (\"total amount:\",abc)"
   ]
  },
  {
   "cell_type": "markdown",
   "id": "a44fbbbf",
   "metadata": {},
   "source": []
  },
  {
   "cell_type": "code",
   "execution_count": null,
   "id": "b3a3921f",
   "metadata": {},
   "outputs": [],
   "source": [
    "abc= \"\"\n",
    "n = int(input(\"enter loop: \"))\n",
    "for i in range(n):\n",
    "    x = input('enter the value of x: ')\n",
    "    abc = abc + x + \"\\n\"\n",
    "    print (abc)"
   ]
  },
  {
   "cell_type": "code",
   "execution_count": 2,
   "id": "ea51290a",
   "metadata": {},
   "outputs": [
    {
     "name": "stdout",
     "output_type": "stream",
     "text": [
      "enter loop: 2\n",
      "enter name:ram\n",
      "enter phone number: 9800000000\n",
      "enter name:hyam\n",
      "enter phone number: 98000000\n",
      "ram 9800000000\n",
      "hyam 98000000\n",
      "\n"
     ]
    }
   ],
   "source": [
    "contact = \"\"\n",
    "l = int(input(\"enter loop: \"))\n",
    "for i in range(l):\n",
    "    n = input(\"enter name:\")\n",
    "    p = int(input(\"enter phone number: \"))\n",
    "    contact = contact + n + \" \" + str(p) + \"\\n\"\n",
    "print(contact)"
   ]
  },
  {
   "cell_type": "code",
   "execution_count": 8,
   "id": "3c599883",
   "metadata": {},
   "outputs": [
    {
     "name": "stdout",
     "output_type": "stream",
     "text": [
      "enter n = 5\n",
      "1\n",
      "2\n",
      "6\n",
      "24\n",
      "120\n"
     ]
    }
   ],
   "source": [
    "fac = 1\n",
    "n = int(input(\"enter n = \"))\n",
    "for i in range(1, n+1):\n",
    "    fac = fac * i\n",
    "    print(fac)"
   ]
  },
  {
   "cell_type": "code",
   "execution_count": 11,
   "id": "bad15f01",
   "metadata": {},
   "outputs": [
    {
     "name": "stdout",
     "output_type": "stream",
     "text": [
      "\n",
      "^\n",
      "^^\n",
      "^^^\n",
      "^^^^\n",
      "^^^^^\n",
      "^^^^^^\n",
      "^^^^^^^\n",
      "^^^^^^^^\n",
      "^^^^^^^^^\n",
      "^^^^^^^^^^\n"
     ]
    }
   ],
   "source": [
    "for i in range(11):\n",
    "    print(i * '^')"
   ]
  },
  {
   "cell_type": "code",
   "execution_count": 6,
   "id": "4fdd1ba6",
   "metadata": {},
   "outputs": [
    {
     "name": "stdout",
     "output_type": "stream",
     "text": [
      "           \n",
      "          oo\n",
      "         oooo\n",
      "        oooooo\n",
      "       oooooooo\n",
      "      oooooooooo\n",
      "     oooooooooooo\n",
      "    oooooooooooooo\n",
      "   oooooooooooooooo\n",
      "  oooooooooooooooooo\n",
      "        ooooo\n",
      "        ooooo\n",
      "        ooooo\n",
      "        ooooo\n",
      "        ooooo\n"
     ]
    }
   ],
   "source": [
    "n = 10\n",
    "for i in range(10):\n",
    "    print((n-i)*\" \",2*(i*'o'))\n",
    "for i in range(5):\n",
    "    print(7*\" \",5*\"o\")\n",
    "    "
   ]
  },
  {
   "cell_type": "code",
   "execution_count": null,
   "id": "6580fcb6",
   "metadata": {},
   "outputs": [],
   "source": [
    "# wap to make billing system \n",
    "name=\n",
    "price=\n",
    "quantiti=\n",
    " in.total\n",
    "namr:  "
   ]
  },
  {
   "cell_type": "code",
   "execution_count": 7,
   "id": "52377134",
   "metadata": {},
   "outputs": [
    {
     "name": "stdout",
     "output_type": "stream",
     "text": [
      "enter amount: 2\n",
      "\n",
      "enter object: coke\n",
      "\n",
      "enter quantiti: 2\n",
      "\n",
      "amount: 200\n",
      "\n",
      "enter object: momo\n",
      "\n",
      "enter quantiti: 5\n",
      "\n",
      "amount: 200\n",
      " coke 2 400\n",
      "momo 5 1000\n",
      "\n",
      "the sum total :  1400\n"
     ]
    }
   ],
   "source": [
    "total = \" \"\n",
    "all_total = 0\n",
    "A = int(input(\"enter amount: \"))\n",
    "for i in range(A):\n",
    "    o = input('\\nenter object: ')\n",
    "    q = int(input(\"\\nenter quantiti: \"))\n",
    "    t = int(input(\"\\namount: \"))\n",
    "    a = (q * t)\n",
    "    \n",
    "    total= total + str(o) +\" \" + str(q) +\" \" +  str(a) + \"\\n\"\n",
    "    all_total = all_total + a\n",
    "print(total)\n",
    "print(\"the sum total : \",all_total)\n"
   ]
  },
  {
   "cell_type": "code",
   "execution_count": 10,
   "id": "acf26367",
   "metadata": {},
   "outputs": [
    {
     "name": "stdout",
     "output_type": "stream",
     "text": [
      "1 hello woeld\n",
      "2 hello woeld\n",
      "3 hello woeld\n"
     ]
    }
   ],
   "source": [
    "a = \"123\"\n",
    "for i in a: \n",
    "    print(i,\"hello woeld\")"
   ]
  },
  {
   "cell_type": "code",
   "execution_count": 11,
   "id": "c5328162",
   "metadata": {},
   "outputs": [
    {
     "name": "stdout",
     "output_type": "stream",
     "text": [
      "Hello world. I am python"
     ]
    }
   ],
   "source": [
    "a = \"Hello world. I am python\"\n",
    "for i in a:\n",
    "    print(i,end = \"\")\n",
    "     "
   ]
  },
  {
   "cell_type": "code",
   "execution_count": 14,
   "id": "506f0814",
   "metadata": {},
   "outputs": [
    {
     "name": "stdout",
     "output_type": "stream",
     "text": [
      "Hello world I am python"
     ]
    }
   ],
   "source": [
    "a = \"Hello world. I am python\"\n",
    "for i in a:\n",
    "    if i != \".\":\n",
    "        print(i,end = \"\")\n",
    "     "
   ]
  },
  {
   "cell_type": "code",
   "execution_count": 22,
   "id": "d72fe12d",
   "metadata": {},
   "outputs": [
    {
     "name": "stdout",
     "output_type": "stream",
     "text": [
      "Hello world. I am python!"
     ]
    }
   ],
   "source": [
    "a = \"Hello world. I am python!\"\n",
    "for i in a:\n",
    "    if i != \".\" or i != \"!\":\n",
    "        print(i,end = \"\")\n",
    "     "
   ]
  },
  {
   "cell_type": "code",
   "execution_count": null,
   "id": "1b14bc5f",
   "metadata": {},
   "outputs": [],
   "source": [
    "a = \"Hello world. I am python!\"\n",
    "for i in a:\n",
    "    print(i,end = \"\")\n",
    "     "
   ]
  },
  {
   "cell_type": "code",
   "execution_count": null,
   "id": "d2e2f7f6",
   "metadata": {},
   "outputs": [],
   "source": [
    "#control statrment\n",
    "#break\n",
    "#continue\n",
    "#pass"
   ]
  },
  {
   "cell_type": "code",
   "execution_count": 3,
   "id": "0e6af2f0",
   "metadata": {},
   "outputs": [],
   "source": [
    "#break\n",
    "\n",
    "for i in range(10):\n",
    "    if i == 5:\n",
    "        break\n",
    "        print(i)"
   ]
  },
  {
   "cell_type": "code",
   "execution_count": 1,
   "id": "f250b8f1",
   "metadata": {},
   "outputs": [
    {
     "name": "stdout",
     "output_type": "stream",
     "text": [
      "Hello world"
     ]
    }
   ],
   "source": [
    "a = \"Hello world. I am python\"\n",
    "for i in a:\n",
    "    if i != \".\":\n",
    "        print(i,end = \"\")\n",
    "    else:\n",
    "        break"
   ]
  },
  {
   "cell_type": "code",
   "execution_count": 1,
   "id": "95bb8e76",
   "metadata": {},
   "outputs": [],
   "source": [
    "a = \"Hello world. I am python\"\n",
    "for i in a:\n",
    "    if i == \".\":\n",
    "        break\n",
    "        print(i,end = \"\")\n",
    "     "
   ]
  },
  {
   "cell_type": "code",
   "execution_count": 2,
   "id": "3621a46e",
   "metadata": {},
   "outputs": [
    {
     "name": "stdout",
     "output_type": "stream",
     "text": [
      "012346789"
     ]
    }
   ],
   "source": [
    "#continue\n",
    "for i in range(10):\n",
    "    if  i == 5:\n",
    "        continue\n",
    "    print(i,end = \"\")\n",
    "     "
   ]
  },
  {
   "cell_type": "code",
   "execution_count": 2,
   "id": "4d3dd9eb",
   "metadata": {},
   "outputs": [],
   "source": [
    "for i in range(1 , 51 ):\n",
    "    if i%5 != 0:\n",
    "        continue\n",
    "        print(i)"
   ]
  },
  {
   "cell_type": "code",
   "execution_count": 2,
   "id": "ef5bf0e0",
   "metadata": {},
   "outputs": [],
   "source": [
    "a = \"Hello world. I am python\"\n",
    "for i in a:\n",
    "    if i == \".\":\n",
    "        continue\n",
    "        print(i,end = \"\")\n",
    "     "
   ]
  },
  {
   "cell_type": "code",
   "execution_count": 5,
   "id": "f4842106",
   "metadata": {},
   "outputs": [],
   "source": [
    "# pass\n",
    "for i in range(5):\n",
    "    pass"
   ]
  },
  {
   "cell_type": "code",
   "execution_count": null,
   "id": "d9047f8a",
   "metadata": {},
   "outputs": [],
   "source": []
  },
  {
   "cell_type": "code",
   "execution_count": 6,
   "id": "8aaa2cfa",
   "metadata": {},
   "outputs": [],
   "source": [
    "a = 10 \n",
    "if a %2 ==0:\n",
    "    pass"
   ]
  },
  {
   "cell_type": "code",
   "execution_count": null,
   "id": "9b71af99",
   "metadata": {},
   "outputs": [],
   "source": []
  }
 ],
 "metadata": {
  "kernelspec": {
   "display_name": "Python 3 (ipykernel)",
   "language": "python",
   "name": "python3"
  },
  "language_info": {
   "codemirror_mode": {
    "name": "ipython",
    "version": 3
   },
   "file_extension": ".py",
   "mimetype": "text/x-python",
   "name": "python",
   "nbconvert_exporter": "python",
   "pygments_lexer": "ipython3",
   "version": "3.11.7"
  }
 },
 "nbformat": 4,
 "nbformat_minor": 5
}
