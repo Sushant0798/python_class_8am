{
 "cells": [
  {
   "cell_type": "code",
   "execution_count": 1,
   "id": "f4a7e61f",
   "metadata": {},
   "outputs": [],
   "source": [
    "# while <condition>\n",
    "      # <operation>"
   ]
  },
  {
   "cell_type": "code",
   "execution_count": 2,
   "id": "052e520b",
   "metadata": {},
   "outputs": [
    {
     "name": "stdout",
     "output_type": "stream",
     "text": [
      "hello  world\n",
      "hello  world\n",
      "hello  world\n",
      "hello  world\n",
      "hello  world\n"
     ]
    }
   ],
   "source": [
    "a = 0 \n",
    "while a < 5:\n",
    "    print(\"hello  world\") \n",
    "    a = a+1"
   ]
  },
  {
   "cell_type": "code",
   "execution_count": 3,
   "id": "f317b706",
   "metadata": {},
   "outputs": [
    {
     "name": "stdout",
     "output_type": "stream",
     "text": [
      "0\n",
      "1\n",
      "2\n",
      "3\n",
      "4\n"
     ]
    }
   ],
   "source": [
    "i = 0\n",
    "while i < 5:\n",
    "    print(i)\n",
    "    i = i+1"
   ]
  },
  {
   "cell_type": "code",
   "execution_count": 4,
   "id": "1b8e8c96",
   "metadata": {},
   "outputs": [
    {
     "name": "stdout",
     "output_type": "stream",
     "text": [
      "enter the value of x: 2\n",
      "2 * 1 = 2\n",
      "2 * 2 = 4\n",
      "2 * 3 = 6\n",
      "2 * 4 = 8\n",
      "2 * 5 = 10\n",
      "2 * 6 = 12\n",
      "2 * 7 = 14\n",
      "2 * 8 = 16\n",
      "2 * 9 = 18\n",
      "2 * 10 = 20\n"
     ]
    }
   ],
   "source": [
    "i = 1\n",
    "x = int(input(\"enter the value of x: \"))\n",
    "while i <= 10:\n",
    "    print(x,\"*\",i,\"=\",i*x)\n",
    "    i = i+1"
   ]
  },
  {
   "cell_type": "code",
   "execution_count": 5,
   "id": "b26169f8",
   "metadata": {},
   "outputs": [
    {
     "name": "stdout",
     "output_type": "stream",
     "text": [
      "enter n = 7\n",
      "1\n",
      "2\n",
      "6\n",
      "24\n",
      "120\n",
      "720\n",
      "5040\n"
     ]
    }
   ],
   "source": [
    "i = 1\n",
    "fac = 1\n",
    "n = int(input(\"enter n = \"))\n",
    "while i<=n:\n",
    "    fac = fac * i\n",
    "    i = i+1\n",
    "    print(fac)"
   ]
  },
  {
   "cell_type": "code",
   "execution_count": 6,
   "id": "8cf8bc3f",
   "metadata": {},
   "outputs": [
    {
     "name": "stdout",
     "output_type": "stream",
     "text": [
      "enter amount: 2\n",
      "\n",
      "enter object: coke\n",
      "\n",
      "enter quantiti: 2\n",
      "\n",
      "amount: 220\n",
      "\n",
      "enter object: momo\n",
      "\n",
      "enter quantiti: 5\n",
      "\n",
      "amount: 120\n",
      " coke 2 440\n",
      "momo 5 600\n",
      "\n",
      "the sum total :  1040\n"
     ]
    }
   ],
   "source": [
    "i = 1\n",
    "total = \" \"\n",
    "all_total = 0\n",
    "A = int(input(\"enter amount: \"))\n",
    "while i<= A:\n",
    "    o = input('\\nenter object: ')\n",
    "    q = int(input(\"\\nenter quantiti: \"))\n",
    "    t = int(input(\"\\namount: \"))\n",
    "    a = (q * t)\n",
    "    \n",
    "    total= total + str(o) +\" \" + str(q) +\" \" +  str(a) + \"\\n\"\n",
    "    all_total = all_total + a\n",
    "    i = i+1\n",
    "print(total)\n",
    "print(\"the sum total : \",all_total)\n"
   ]
  },
  {
   "cell_type": "code",
   "execution_count": null,
   "id": "24f81fe5",
   "metadata": {},
   "outputs": [],
   "source": [
    "# break in while loop"
   ]
  },
  {
   "cell_type": "code",
   "execution_count": null,
   "id": "d265b52c",
   "metadata": {},
   "outputs": [],
   "source": [
    "i = 0 \n",
    "while i<=10:\n",
    "    if i == 5:\n",
    "        break\n",
    "        print(i)\n",
    "        i =i+1"
   ]
  },
  {
   "cell_type": "code",
   "execution_count": null,
   "id": "8fbe6bfa",
   "metadata": {},
   "outputs": [],
   "source": [
    "i = 0 \n",
    "while i<=10:\n",
    "    if i == 5:\n",
    "        i = i+1 \n",
    "        continue\n",
    "        \n",
    "        print(i,end = \" \")\n",
    "        i =i+1"
   ]
  },
  {
   "cell_type": "code",
   "execution_count": null,
   "id": "032ed59d",
   "metadata": {},
   "outputs": [],
   "source": [
    "#wap to find if the given no is prime or composite"
   ]
  },
  {
   "cell_type": "code",
   "execution_count": null,
   "id": "cd956a0c",
   "metadata": {},
   "outputs": [],
   "source": [
    "i = 1\n",
    "n = int(input(\"Enter the no: \"))\n",
    "c = 0\n",
    "while i<=n:\n",
    "    if n%i == 0:\n",
    "        c = c+1\n",
    "    i = i+1\n",
    "if c ==2:\n",
    "    print(\"the number is prime number\")\n",
    "elif c>2:\n",
    "    print(\"the number is composite number\")\n",
    "else:\n",
    "    print(\"the number is neither prime nor composite\")\n",
    "    "
   ]
  },
  {
   "cell_type": "code",
   "execution_count": null,
   "id": "ccbddb4c",
   "metadata": {},
   "outputs": [],
   "source": []
  },
  {
   "cell_type": "code",
   "execution_count": null,
   "id": "ec4c2877",
   "metadata": {},
   "outputs": [],
   "source": []
  }
 ],
 "metadata": {
  "kernelspec": {
   "display_name": "Python 3 (ipykernel)",
   "language": "python",
   "name": "python3"
  },
  "language_info": {
   "codemirror_mode": {
    "name": "ipython",
    "version": 3
   },
   "file_extension": ".py",
   "mimetype": "text/x-python",
   "name": "python",
   "nbconvert_exporter": "python",
   "pygments_lexer": "ipython3",
   "version": "3.11.7"
  }
 },
 "nbformat": 4,
 "nbformat_minor": 5
}
