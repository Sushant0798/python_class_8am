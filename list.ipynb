{
 "cells": [
  {
   "cell_type": "code",
   "execution_count": 1,
   "id": "d91b260e",
   "metadata": {},
   "outputs": [],
   "source": [
    "#python collection\n",
    "#list\n",
    "#tuple\n",
    "#dict\n",
    "#set"
   ]
  },
  {
   "cell_type": "code",
   "execution_count": 2,
   "id": "71354da7",
   "metadata": {},
   "outputs": [],
   "source": [
    "#list"
   ]
  },
  {
   "cell_type": "code",
   "execution_count": 6,
   "id": "f9745842",
   "metadata": {},
   "outputs": [
    {
     "name": "stdout",
     "output_type": "stream",
     "text": [
      "<class 'list'>\n",
      "<class 'list'>\n",
      "['apple', 'ball', 'cat']\n",
      "[1, 2, 3, 4, 5]\n"
     ]
    }
   ],
   "source": [
    "a = [\"apple\",\"ball\",\"cat\"]\n",
    "b = [1,2,3,4,5]\n",
    "print(type(a))\n",
    "print(type(b))\n",
    "print(a)\n",
    "print(b)"
   ]
  },
  {
   "cell_type": "code",
   "execution_count": null,
   "id": "e6bd08e0",
   "metadata": {},
   "outputs": [],
   "source": [
    "#indexing"
   ]
  },
  {
   "cell_type": "code",
   "execution_count": 4,
   "id": "a85d6898",
   "metadata": {},
   "outputs": [
    {
     "name": "stdout",
     "output_type": "stream",
     "text": [
      "apple\n"
     ]
    }
   ],
   "source": [
    "a = [\"apple\",\"ball\",\"cat\"]\n",
    "print(a[0])"
   ]
  },
  {
   "cell_type": "code",
   "execution_count": 5,
   "id": "04542636",
   "metadata": {},
   "outputs": [
    {
     "name": "stdout",
     "output_type": "stream",
     "text": [
      "['apple', 'cat']\n"
     ]
    }
   ],
   "source": [
    "print(a[0:5:2])"
   ]
  },
  {
   "cell_type": "code",
   "execution_count": 7,
   "id": "bef4f3f1",
   "metadata": {},
   "outputs": [
    {
     "name": "stdout",
     "output_type": "stream",
     "text": [
      "[1, 2, 3, 4, 5, 1, 2, 3, 4, 5]\n"
     ]
    }
   ],
   "source": [
    "b = [1,2,3,4,5]\n",
    "print(b*2)"
   ]
  },
  {
   "cell_type": "code",
   "execution_count": 8,
   "id": "0b28c683",
   "metadata": {},
   "outputs": [],
   "source": [
    "# append( ), insert(), extend()"
   ]
  },
  {
   "cell_type": "code",
   "execution_count": 10,
   "id": "96f58493",
   "metadata": {},
   "outputs": [
    {
     "name": "stdout",
     "output_type": "stream",
     "text": [
      "['apple', 'ball']\n"
     ]
    }
   ],
   "source": [
    "a =[]\n",
    "a.append(\"apple\")\n",
    "a.append(\"ball\")\n",
    "print(a)"
   ]
  },
  {
   "cell_type": "code",
   "execution_count": 12,
   "id": "2157fdc1",
   "metadata": {},
   "outputs": [
    {
     "name": "stdout",
     "output_type": "stream",
     "text": [
      "enter the value of n: 10\n",
      "enter x: 11\n",
      "enter x: 112\n",
      "enter x: 122\n",
      "enter x: 222\n",
      "enter x: 42\n",
      "enter x: 553\n",
      "enter x: 5322\n",
      "enter x: 53\n",
      "enter x: 53\n",
      "enter x: 53\n",
      "[11, 112, 122, 222, 42, 553, 5322, 53, 53, 53]\n"
     ]
    }
   ],
   "source": [
    "l = []\n",
    "n= int(input(\"enter the value of n: \"))\n",
    "for i in range(n):\n",
    "    x = int(input(\"enter x: \"))\n",
    "    l.append(x)\n",
    "    \n",
    "print(l)"
   ]
  },
  {
   "cell_type": "code",
   "execution_count": 15,
   "id": "02f19408",
   "metadata": {},
   "outputs": [
    {
     "name": "stdout",
     "output_type": "stream",
     "text": [
      "min value:  11\n",
      "max value:  5322\n",
      "sum value:  6543\n",
      "[11, 42, 53, 53, 53, 112, 122, 222, 553, 5322]\n",
      "[5322, 553, 222, 122, 112, 53, 53, 53, 42, 11]\n"
     ]
    }
   ],
   "source": [
    "print(\"min value: \",min(l))\n",
    "print(\"max value: \",max(l))\n",
    "print(\"sum value: \",sum(l))\n",
    "l.sort()\n",
    "print(l)\n",
    "l.reverse()\n",
    "print(l)"
   ]
  },
  {
   "cell_type": "code",
   "execution_count": 19,
   "id": "1d1802d6",
   "metadata": {},
   "outputs": [
    {
     "name": "stdout",
     "output_type": "stream",
     "text": [
      "enter the value of n: 5\n",
      "enter x: ram\n",
      "enter x: shyam\n",
      "enter x: hari\n",
      "enter x: shyam\n",
      "enter x: gita\n",
      "['ram', 'shyam', 'hari', 'shyam', 'gita']\n"
     ]
    }
   ],
   "source": [
    "l = []\n",
    "n= int(input(\"enter the value of n: \"))\n",
    "for i in range(n):\n",
    "    x = input(\"enter x: \")\n",
    "    l.append(x)\n",
    "    \n",
    "print(l)"
   ]
  },
  {
   "cell_type": "code",
   "execution_count": 20,
   "id": "d231f60d",
   "metadata": {},
   "outputs": [
    {
     "name": "stdout",
     "output_type": "stream",
     "text": [
      "['gita', 'hari', 'ram', 'shyam', 'shyam']\n"
     ]
    }
   ],
   "source": [
    "l.sort()\n",
    "print(l)"
   ]
  },
  {
   "cell_type": "code",
   "execution_count": 24,
   "id": "82b329c0",
   "metadata": {},
   "outputs": [
    {
     "name": "stdout",
     "output_type": "stream",
     "text": [
      "['hari', 'harry', 'shyam', 'ram', 'shyam']\n"
     ]
    }
   ],
   "source": [
    "#insert()\n",
    "a = ['hari','shyam','ram','shyam']\n",
    "a.insert(1,\"harry\")\n",
    "print(a)"
   ]
  },
  {
   "cell_type": "code",
   "execution_count": 26,
   "id": "348db32e",
   "metadata": {},
   "outputs": [
    {
     "name": "stdout",
     "output_type": "stream",
     "text": [
      "['hari', 'shyam', 'ram', 'shyam', 1, 2, 3, 4, 5, 6]\n"
     ]
    }
   ],
   "source": [
    "a = ['hari','shyam','ram','shyam']\n",
    "b =[1,2,3,4,5,6]\n",
    "a.extend(b)\n",
    "print(a)"
   ]
  },
  {
   "cell_type": "code",
   "execution_count": 29,
   "id": "e4c676d1",
   "metadata": {},
   "outputs": [
    {
     "name": "stdout",
     "output_type": "stream",
     "text": [
      "['nita', 'shyam', 'ram', 'shyam']\n"
     ]
    }
   ],
   "source": [
    "# update\n",
    "a = ['hari','shyam','ram','shyam']\n",
    "a[0] = 'nita'\n",
    "print(a)"
   ]
  },
  {
   "cell_type": "code",
   "execution_count": 41,
   "id": "46a87cd9",
   "metadata": {},
   "outputs": [
    {
     "name": "stdout",
     "output_type": "stream",
     "text": [
      "['hari', 'jack', 'john', 'steven', 'ram', 'shyam']\n"
     ]
    }
   ],
   "source": [
    "a = ['hari','shyam','ram','shyam']\n",
    "a[1:2] = [\"jack\", \"john\",\"steven\"]\n",
    "print(a)"
   ]
  },
  {
   "cell_type": "code",
   "execution_count": 37,
   "id": "d102d6e2",
   "metadata": {},
   "outputs": [
    {
     "name": "stdout",
     "output_type": "stream",
     "text": [
      "['steaven', 'bill', 'hari', 'shyam', 'ram', 'shyam']\n"
     ]
    }
   ],
   "source": [
    "# insert multiple values inside certain inde\n",
    "a = ['hari','shyam','ram','shyam']\n",
    "a[0:0] = ['steaven','bill']\n",
    "print(a)"
   ]
  },
  {
   "cell_type": "code",
   "execution_count": 44,
   "id": "579fe9f0",
   "metadata": {},
   "outputs": [
    {
     "name": "stdout",
     "output_type": "stream",
     "text": [
      "['shyam', 'ram', 'shyam']\n"
     ]
    }
   ],
   "source": [
    "#delete : del, remove(), pop()\n",
    "a = ['hari','shyam','ram','shyam']\n",
    "del a[0] \n",
    "print(a)"
   ]
  },
  {
   "cell_type": "code",
   "execution_count": 46,
   "id": "b7c5dd71",
   "metadata": {},
   "outputs": [
    {
     "name": "stdout",
     "output_type": "stream",
     "text": [
      "['ram', 'shyam']\n"
     ]
    }
   ],
   "source": [
    "a = ['hari','shyam','ram','shyam']\n",
    "del a[0:2]\n",
    "print(a)"
   ]
  },
  {
   "cell_type": "code",
   "execution_count": 4,
   "id": "8145e9a5",
   "metadata": {},
   "outputs": [
    {
     "data": {
      "text/plain": [
       "['hari', 'shyam', 'shyam']"
      ]
     },
     "execution_count": 4,
     "metadata": {},
     "output_type": "execute_result"
    }
   ],
   "source": [
    "a = ['hari','shyam','ram','shyam']\n",
    "a.remove('ram')\n",
    "a"
   ]
  },
  {
   "cell_type": "code",
   "execution_count": 55,
   "id": "bf81340f",
   "metadata": {},
   "outputs": [
    {
     "data": {
      "text/plain": [
       "['hari', 'ram', 'shyam']"
      ]
     },
     "execution_count": 55,
     "metadata": {},
     "output_type": "execute_result"
    }
   ],
   "source": [
    "a = ['hari','shyam','ram','shyam']\n",
    "a.pop(1)\n",
    "a"
   ]
  },
  {
   "cell_type": "code",
   "execution_count": 58,
   "id": "babe3f34",
   "metadata": {},
   "outputs": [
    {
     "name": "stdout",
     "output_type": "stream",
     "text": [
      "['hari', 'ram', 'shyam']\n",
      "shyam\n"
     ]
    }
   ],
   "source": [
    "a = ['hari','shyam','ram','shyam']\n",
    "b = a.pop(1)\n",
    "print(a)\n",
    "print(b)"
   ]
  },
  {
   "cell_type": "code",
   "execution_count": 64,
   "id": "c03a14af",
   "metadata": {},
   "outputs": [
    {
     "name": "stdout",
     "output_type": "stream",
     "text": [
      "hari\n",
      "shyam\n",
      "ram\n",
      "shyam\n"
     ]
    }
   ],
   "source": [
    "a = ['hari','shyam','ram','shyam']\n",
    "for i in a:\n",
    "    print(i)"
   ]
  },
  {
   "cell_type": "code",
   "execution_count": 65,
   "id": "7c1780ba",
   "metadata": {},
   "outputs": [
    {
     "name": "stdout",
     "output_type": "stream",
     "text": [
      "4\n"
     ]
    }
   ],
   "source": [
    "a = ['hari','shyam','ram','shyam']\n",
    "l = len(a)\n",
    "print(l)"
   ]
  },
  {
   "cell_type": "code",
   "execution_count": 1,
   "id": "de4d525d",
   "metadata": {},
   "outputs": [],
   "source": [
    "i = 0\n",
    "a = ['hari','shyam','ram','shyam']\n",
    "l = len(a)\n",
    "while l<1:\n",
    "    print(a[i])\n",
    "    i = i+1"
   ]
  },
  {
   "cell_type": "code",
   "execution_count": 8,
   "id": "ac51f9eb",
   "metadata": {},
   "outputs": [
    {
     "data": {
      "text/plain": [
       "['hari', 'shyam', 'shyam']"
      ]
     },
     "execution_count": 8,
     "metadata": {},
     "output_type": "execute_result"
    }
   ],
   "source": [
    "# removing multiple value\n",
    "a = ['hari','shyam','ram','shyam','ram']\n",
    "c = a.count(\"ram\",)\n",
    "for i in range(c):\n",
    "    a.remove('ram')\n",
    "a \n"
   ]
  },
  {
   "cell_type": "code",
   "execution_count": 10,
   "id": "cf8a0ff2",
   "metadata": {},
   "outputs": [
    {
     "name": "stdout",
     "output_type": "stream",
     "text": [
      "yes 2\n"
     ]
    }
   ],
   "source": [
    "a = ['hari','shyam','ram','shyam','ram']\n",
    "if 'ram' in a:\n",
    "    print('yes',a.count(\"ram\"))\n",
    "else:\n",
    "    print(\"no\")"
   ]
  },
  {
   "cell_type": "code",
   "execution_count": 11,
   "id": "a6efe9b1",
   "metadata": {},
   "outputs": [
    {
     "data": {
      "text/plain": [
       "2"
      ]
     },
     "execution_count": 11,
     "metadata": {},
     "output_type": "execute_result"
    }
   ],
   "source": [
    "a = ['hari','shyam','ram','shyam','ram']\n",
    "a.index('ram')"
   ]
  },
  {
   "cell_type": "code",
   "execution_count": 15,
   "id": "ba1cffb5",
   "metadata": {},
   "outputs": [
    {
     "name": "stdout",
     "output_type": "stream",
     "text": [
      "2\n",
      "4\n"
     ]
    }
   ],
   "source": [
    "a = ['hari','shyam','ram','shyam','ram']\n",
    "l = len(a)\n",
    "for i in range(l):\n",
    "    if a[i] == 'ram':\n",
    "        print(i)"
   ]
  },
  {
   "cell_type": "code",
   "execution_count": 2,
   "id": "78e8e28f",
   "metadata": {},
   "outputs": [
    {
     "name": "stdout",
     "output_type": "stream",
     "text": [
      "Enter name: ram\n"
     ]
    }
   ],
   "source": [
    "a = ['hari','shyam','Ram','shyam','ram']\n",
    "name= input(\"Enter name: \")\n",
    "l = len(a)\n",
    "for i in range(l):\n",
    "    if a[i].lower == name.lower():\n",
    "        print(i)"
   ]
  },
  {
   "cell_type": "code",
   "execution_count": 7,
   "id": "436adaea",
   "metadata": {},
   "outputs": [
    {
     "name": "stdout",
     "output_type": "stream",
     "text": [
      "Enter name: ram\n"
     ]
    }
   ],
   "source": [
    "a = ['hari','shyam','Ram','shyam','ram']\n",
    "name= input(\"Enter name: \")\n",
    "l = len(a)\n",
    "for i in range(l):\n",
    "    if a[i].lower == name.lower():\n",
    "        print(i)"
   ]
  },
  {
   "cell_type": "code",
   "execution_count": 8,
   "id": "35f3b627",
   "metadata": {},
   "outputs": [],
   "source": [
    "# nested loop"
   ]
  },
  {
   "cell_type": "code",
   "execution_count": null,
   "id": "66268429",
   "metadata": {},
   "outputs": [],
   "source": [
    "a = [[1,2,3],\n",
    "    [4,5,6]\n",
    "    [7,8,9]]\n",
    "print(a)"
   ]
  },
  {
   "cell_type": "code",
   "execution_count": 4,
   "id": "e5f64651",
   "metadata": {},
   "outputs": [
    {
     "name": "stdout",
     "output_type": "stream",
     "text": [
      "[['ram', 34, 'Kathmandu'], ['Shyam', 46, 'lalitpur'], ['Hari', 33, 'lalitpur']]\n",
      "3\n"
     ]
    }
   ],
   "source": [
    "info = [[\"ram\", 34, \"Kathmandu\"],\n",
    "       ['Shyam', 46, 'lalitpur'],\n",
    "       ['Hari',33,'lalitpur']]\n",
    "print(info)\n",
    "print(len(info))"
   ]
  },
  {
   "cell_type": "code",
   "execution_count": 5,
   "id": "326668f2",
   "metadata": {},
   "outputs": [
    {
     "data": {
      "text/plain": [
       "['ram', 34, 'Kathmandu']"
      ]
     },
     "execution_count": 5,
     "metadata": {},
     "output_type": "execute_result"
    }
   ],
   "source": [
    "info[0]"
   ]
  },
  {
   "cell_type": "code",
   "execution_count": 6,
   "id": "503511ca",
   "metadata": {},
   "outputs": [
    {
     "data": {
      "text/plain": [
       "'ram'"
      ]
     },
     "execution_count": 6,
     "metadata": {},
     "output_type": "execute_result"
    }
   ],
   "source": [
    "info[0][0]"
   ]
  },
  {
   "cell_type": "code",
   "execution_count": 8,
   "id": "dfc48d4a",
   "metadata": {},
   "outputs": [
    {
     "name": "stdout",
     "output_type": "stream",
     "text": [
      "enter n:2\n",
      "enter name= ram\n",
      "enter age= 33\n",
      "enter add= kathmandu\n",
      "enter name= shyam\n",
      "enter age= 45\n",
      "enter add= lalitpur\n",
      "[['ram', 33, 'kathmandu'], ['shyam', 45, 'lalitpur']]\n"
     ]
    }
   ],
   "source": [
    "info = []\n",
    "n = int(input(\"enter n:\"))\n",
    "for i in range(n):\n",
    "        name = input('enter name= ')\n",
    "        age = int(input('enter age= '))\n",
    "        add = input(\"enter add= \")\n",
    "        x = [name,age,add]\n",
    "        info.append(x)\n",
    "print(info)"
   ]
  },
  {
   "cell_type": "code",
   "execution_count": 9,
   "id": "b0a5ad77",
   "metadata": {},
   "outputs": [
    {
     "data": {
      "text/plain": [
       "[['ram', 33, 'kathmandu'],\n",
       " ['shyam', 45, 'lalitpur'],\n",
       " ['Hari', 34, 'kathmandu']]"
      ]
     },
     "execution_count": 9,
     "metadata": {},
     "output_type": "execute_result"
    }
   ],
   "source": [
    "info.append(['Hari',34,'kathmandu'])\n",
    "info"
   ]
  },
  {
   "cell_type": "code",
   "execution_count": 14,
   "id": "028405da",
   "metadata": {},
   "outputs": [
    {
     "data": {
      "text/plain": [
       "[['gita', 33, 'kathmandu'],\n",
       " ['shyam', 45, 'lalitpur'],\n",
       " ['Hari', 34, 'kathmandu']]"
      ]
     },
     "execution_count": 14,
     "metadata": {},
     "output_type": "execute_result"
    }
   ],
   "source": [
    "#update\n",
    "info[0][0] = 'gita'\n",
    "info"
   ]
  },
  {
   "cell_type": "code",
   "execution_count": 15,
   "id": "628cb1e2",
   "metadata": {},
   "outputs": [
    {
     "data": {
      "text/plain": [
       "[['shyam', 45, 'lalitpur'], ['Hari', 34, 'kathmandu']]"
      ]
     },
     "execution_count": 15,
     "metadata": {},
     "output_type": "execute_result"
    }
   ],
   "source": [
    "a = [['ram', 33, 'kathmandu'],\n",
    "    ['shyam', 45, 'lalitpur'],\n",
    "    ['Hari', 34, 'kathmandu']]\n",
    "del a[0]\n",
    "a"
   ]
  },
  {
   "cell_type": "code",
   "execution_count": 17,
   "id": "7d425d1f",
   "metadata": {},
   "outputs": [
    {
     "name": "stdout",
     "output_type": "stream",
     "text": [
      "[['shyam', 45, 'lalitpur'], ['Hari', 34, 'kathmandu']]\n",
      "['ram', 33, 'kathmandu']\n"
     ]
    }
   ],
   "source": [
    "a = [['ram', 33, 'kathmandu'],\n",
    "    ['shyam', 45, 'lalitpur'],\n",
    "    ['Hari', 34, 'kathmandu']]\n",
    "b = a.pop(0)\n",
    "print(a)\n",
    "print(b)"
   ]
  },
  {
   "cell_type": "code",
   "execution_count": 32,
   "id": "caa5f42f",
   "metadata": {},
   "outputs": [
    {
     "name": "stdout",
     "output_type": "stream",
     "text": [
      "Enter name: Ram\n"
     ]
    }
   ],
   "source": [
    "info = [['shyam', 45, 'lalitpur'], ['Hari', 34, 'kathmandu'], ['Ram', 66,'kathmandu']]\n",
    "name = input(\"Enter name: \")\n",
    "l = len(a)\n",
    "for i in range(l):\n",
    "    if name in a[i] :\n",
    "        print(i)"
   ]
  },
  {
   "cell_type": "code",
   "execution_count": 3,
   "id": "5bcc7dfd",
   "metadata": {},
   "outputs": [
    {
     "name": "stdout",
     "output_type": "stream",
     "text": [
      "enter r: 2\n",
      "enter c; 3\n",
      "enter x: ram\n",
      "enter x: 33\n",
      "enter x: kathmandu\n",
      "enter x: shyam\n",
      "enter x: 44\n",
      "enter x: lalitpur\n",
      "[['ram', '33', 'kathmandu'], ['shyam', '44', 'lalitpur']]\n"
     ]
    }
   ],
   "source": [
    "m = []\n",
    "r = int(input('enter r: '))\n",
    "c = int(input('enter c; '))\n",
    "for i in range(r):\n",
    "    y =[]\n",
    "    for j in range(c):\n",
    "        x = input(\"enter x: \")\n",
    "        y.append(x)\n",
    "    m.append(y)\n",
    "    \n",
    "print(m)"
   ]
  },
  {
   "cell_type": "code",
   "execution_count": null,
   "id": "b31f74a0",
   "metadata": {},
   "outputs": [],
   "source": [
    "m = []\n",
    "r = int(input(\"enter r: \"))\n",
    "c = int(input(\"enter c: \"))\n",
    "for i in range(r):\n",
    "    y =[]\n",
    "    for j in range(c):\n",
    "        x = input(\"enter x: \")\n",
    "        y.append(x)\n",
    "    m.append(y)\n",
    "    \n",
    "print(m)"
   ]
  },
  {
   "cell_type": "code",
   "execution_count": null,
   "id": "c5a79c53",
   "metadata": {},
   "outputs": [],
   "source": []
  }
 ],
 "metadata": {
  "kernelspec": {
   "display_name": "Python 3 (ipykernel)",
   "language": "python",
   "name": "python3"
  },
  "language_info": {
   "codemirror_mode": {
    "name": "ipython",
    "version": 3
   },
   "file_extension": ".py",
   "mimetype": "text/x-python",
   "name": "python",
   "nbconvert_exporter": "python",
   "pygments_lexer": "ipython3",
   "version": "3.11.7"
  }
 },
 "nbformat": 4,
 "nbformat_minor": 5
}
