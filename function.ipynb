{
 "cells": [
  {
   "cell_type": "code",
   "execution_count": 1,
   "id": "b4dc85b6",
   "metadata": {},
   "outputs": [],
   "source": [
    "#function"
   ]
  },
  {
   "cell_type": "code",
   "execution_count": 2,
   "id": "65571f02",
   "metadata": {},
   "outputs": [],
   "source": [
    "#pre define function\n",
    "#print() , int(), float()"
   ]
  },
  {
   "cell_type": "code",
   "execution_count": null,
   "id": "e28bc829",
   "metadata": {},
   "outputs": [],
   "source": [
    "#user define function\n",
    "def <function-name>():\n",
    "    <operation>\n",
    "    <function-name>()"
   ]
  },
  {
   "cell_type": "code",
   "execution_count": null,
   "id": "44a97b15",
   "metadata": {},
   "outputs": [],
   "source": []
  },
  {
   "cell_type": "code",
   "execution_count": 4,
   "id": "d9957dba",
   "metadata": {},
   "outputs": [
    {
     "name": "stdout",
     "output_type": "stream",
     "text": [
      "Hello world\n"
     ]
    }
   ],
   "source": [
    "def a():              #function define\n",
    "    print('Hello world')\n",
    "    \n",
    "a()                   # function call"
   ]
  },
  {
   "cell_type": "code",
   "execution_count": 8,
   "id": "4abdecba",
   "metadata": {},
   "outputs": [
    {
     "name": "stdout",
     "output_type": "stream",
     "text": [
      "Enter l: 33\n",
      "Enter b: 44\n",
      "1452\n"
     ]
    }
   ],
   "source": [
    "def cal():\n",
    "    len = int(input('Enter l: '))  #local variable\n",
    "    b = int(input('Enter b: '))    #local variable\n",
    "    a  =len*b\n",
    "    print(a)\n",
    "    \n",
    "cal()"
   ]
  },
  {
   "cell_type": "code",
   "execution_count": 10,
   "id": "2eadc019",
   "metadata": {},
   "outputs": [
    {
     "name": "stdout",
     "output_type": "stream",
     "text": [
      "Enter l: 10\n",
      "Enter b: 2\n",
      "20\n"
     ]
    }
   ],
   "source": [
    "len = int(input('Enter l: '))  #global variable\n",
    "b = int(input('Enter b: '))    #global variable\n",
    "\n",
    "def cal():\n",
    "    a  =len*b\n",
    "    print(a)\n",
    "    \n",
    "cal()"
   ]
  },
  {
   "cell_type": "code",
   "execution_count": null,
   "id": "c3f4d51f",
   "metadata": {},
   "outputs": [],
   "source": [
    "#arguments\n",
    "#parameter\n",
    "#return type"
   ]
  },
  {
   "cell_type": "code",
   "execution_count": 13,
   "id": "4fa63037",
   "metadata": {},
   "outputs": [
    {
     "name": "stdout",
     "output_type": "stream",
     "text": [
      "Enter l: 10\n",
      "Enter b: 2\n",
      "<function a at 0x000002C0169E04A0>\n"
     ]
    }
   ],
   "source": [
    "def cal(x,y):                  # x,y paramater\n",
    "    x,y =z\n",
    "    print(a)\n",
    "l = int(input('Enter l: '))  #local variable\n",
    "b = int(input('Enter b: '))    #local variable\n",
    "z =[l,b]\n",
    "    \n",
    "cal(l,b)                       # l,b argument"
   ]
  },
  {
   "cell_type": "code",
   "execution_count": 14,
   "id": "46279823",
   "metadata": {},
   "outputs": [
    {
     "name": "stdout",
     "output_type": "stream",
     "text": [
      "10\n",
      "20\n"
     ]
    }
   ],
   "source": [
    "a =[10,20]\n",
    "x,y = a \n",
    "print(x)\n",
    "print(y)"
   ]
  },
  {
   "cell_type": "code",
   "execution_count": 15,
   "id": "e4f11ad5",
   "metadata": {},
   "outputs": [
    {
     "name": "stdout",
     "output_type": "stream",
     "text": [
      "c\n",
      "java\n",
      "c#\n",
      "Python\n"
     ]
    }
   ],
   "source": [
    "def language(lan = 'Python'):\n",
    "    print(lan)\n",
    "    \n",
    "language('c')\n",
    "language('java')\n",
    "language('c#')\n",
    "language()"
   ]
  },
  {
   "cell_type": "code",
   "execution_count": 17,
   "id": "097a85ca",
   "metadata": {},
   "outputs": [
    {
     "name": "stdout",
     "output_type": "stream",
     "text": [
      "Hello world I am python.\n"
     ]
    }
   ],
   "source": [
    "#return type function\n",
    "def hello():\n",
    "    x = \"Hello world\"\n",
    "    return x\n",
    "# print(hello())\n",
    "y = hello()\n",
    "print( y + \" I am python.\")"
   ]
  },
  {
   "cell_type": "code",
   "execution_count": 28,
   "id": "cddc6b65",
   "metadata": {},
   "outputs": [
    {
     "name": "stdout",
     "output_type": "stream",
     "text": [
      "enter l: 20\n",
      "enter b: 3\n",
      "Enter h: 4\n",
      "60\n",
      "240\n"
     ]
    }
   ],
   "source": [
    "def cal(len,b):\n",
    "    a = l*b\n",
    "    return a \n",
    "\n",
    "len = int(input(\"enter l: \"))\n",
    "b = int(input(\"enter b: \"))\n",
    "h = int(input(\"Enter h: \"))\n",
    "area = cal(len,b)\n",
    "volume = area * h\n",
    "print(area)\n",
    "print(volume)"
   ]
  },
  {
   "cell_type": "code",
   "execution_count": null,
   "id": "c7bf361a",
   "metadata": {},
   "outputs": [],
   "source": [
    "def reasult():\n",
    "def reasult():\n",
    "    m = float(input(\"marks in maths= \"))\n",
    "    s = float(input(\"marks in science= \"))\n",
    "    n = float(input(\"marks in nepali= \"))\n",
    "    e = float(input(\"marks in english= \"))\n",
    "    env = float(input(\"marks in env.science= \"))\n",
    "    so = float(input(\"marks in social= \"))\n",
    "    c = float(input(\"marks in computer= \"))\n",
    "    tot = m+s+n+e+env+so+c\n",
    "    ave = tot/7\n",
    "    if ave>= 90:\n",
    "        print(\"you have score A+\")\n",
    "    elif ave>= 80:\n",
    "        print(\"you have score A\")\n",
    "    elif ave>= 70:\n",
    "        print(\"you have score B+\")\n",
    "    elif ave>= 60:\n",
    "        print(\"you have score B\")\n",
    "    elif ave>= 50:\n",
    "        print(\"you have score c+\")\n",
    "    elif ave>= 40:\n",
    "        print(\"you have score c\")\n",
    "    elif ave>= 35:\n",
    "        print(\"you have score d\")\n",
    "    else:\n",
    "        print(\"you have failed\")\n",
    "\n",
    "return tot ,ave\n",
    "\n",
    "return x,y reasult()\n",
    "\n",
    "print('total marks = ',x)\n",
    "print('per= ',y)\n",
    "    \n",
    "\n",
    "\n",
    "    "
   ]
  },
  {
   "cell_type": "code",
   "execution_count": 11,
   "id": "9c0cd7e0",
   "metadata": {},
   "outputs": [
    {
     "name": "stdout",
     "output_type": "stream",
     "text": [
      "enter your first number: 1111\n",
      "enter your second number: 11\n",
      "Enter 1 for add or 2 for sub or 3 for muli or 4 for div1\n",
      "1122.0\n"
     ]
    }
   ],
   "source": [
    "def add(a,b):\n",
    "    return a + b\n",
    "def sub(a,b):\n",
    "    return a-b\n",
    "def mult(a,b):\n",
    "    return a*b\n",
    "def div(a,b):\n",
    "    return a/b\n",
    "\n",
    "def cal(a,b,o):\n",
    "\n",
    "    if o == \"1\":\n",
    "        print(add(a,b) )\n",
    "    elif o == \"2\":\n",
    "        print(sub(a,b))\n",
    "    elif o == \"3\":\n",
    "        print(mult(a,b))\n",
    "    elif o == \"4\":\n",
    "        if b != 0:\n",
    "            print(div(a,b))\n",
    "        else:\n",
    "            print(\"the value of b cannt be zero\")\n",
    "    else:\n",
    "        print(\"invalid number\")\n",
    "    \n",
    "a = float(input(\"enter your first number: \"))\n",
    "b = float(input(\"enter your second number: \"))\n",
    "o = input(\"Enter 1 for add or 2 for sub or 3 for muli or 4 for div\")\n",
    "    \n",
    "cal(a,b,o)"
   ]
  },
  {
   "cell_type": "code",
   "execution_count": null,
   "id": "6bdfa66d",
   "metadata": {},
   "outputs": [],
   "source": [
    "#recursive function"
   ]
  },
  {
   "cell_type": "code",
   "execution_count": 15,
   "id": "7c53fea5",
   "metadata": {},
   "outputs": [
    {
     "name": "stdout",
     "output_type": "stream",
     "text": [
      "hello world\n",
      "Enter y for more print: y\n",
      "hello world\n",
      "Enter y for more print: y\n",
      "hello world\n",
      "Enter y for more print: y\n",
      "hello world\n",
      "Enter y for more print: y\n",
      "hello world\n",
      "Enter y for more print: y\n",
      "hello world\n",
      "Enter y for more print: y\n",
      "hello world\n",
      "Enter y for more print: y\n",
      "hello world\n",
      "Enter y for more print: y\n",
      "hello world\n",
      "Enter y for more print: s\n"
     ]
    }
   ],
   "source": [
    "def hello():\n",
    "    print(\"hello world\")\n",
    "    x = input(\"Enter y for more print: \")\n",
    "    if x == 'y':\n",
    "        hello()\n",
    "hello()\n"
   ]
  },
  {
   "cell_type": "code",
   "execution_count": 16,
   "id": "10e49773",
   "metadata": {},
   "outputs": [],
   "source": [
    "#math function"
   ]
  },
  {
   "cell_type": "code",
   "execution_count": 17,
   "id": "6031b616",
   "metadata": {},
   "outputs": [
    {
     "name": "stdout",
     "output_type": "stream",
     "text": [
      "-0.3048106211022167\n"
     ]
    }
   ],
   "source": [
    "import math as m \n",
    "print(m.sin(60))\n"
   ]
  },
  {
   "cell_type": "code",
   "execution_count": 18,
   "id": "c084c6eb",
   "metadata": {},
   "outputs": [
    {
     "data": {
      "text/plain": [
       "3.141592653589793"
      ]
     },
     "execution_count": 18,
     "metadata": {},
     "output_type": "execute_result"
    }
   ],
   "source": [
    "m.pi"
   ]
  },
  {
   "cell_type": "markdown",
   "id": "2e35050e",
   "metadata": {},
   "source": [
    "m.pi"
   ]
  },
  {
   "cell_type": "code",
   "execution_count": 21,
   "id": "f9adce48",
   "metadata": {},
   "outputs": [
    {
     "name": "stdout",
     "output_type": "stream",
     "text": [
      "1.0\n"
     ]
    }
   ],
   "source": [
    "print(m.sin(m.pi/2))\n"
   ]
  },
  {
   "cell_type": "code",
   "execution_count": 22,
   "id": "369dd35d",
   "metadata": {},
   "outputs": [
    {
     "name": "stdout",
     "output_type": "stream",
     "text": [
      "6.123233995736766e-17\n"
     ]
    }
   ],
   "source": [
    "print(m.cos(m.pi/2))\n"
   ]
  },
  {
   "cell_type": "code",
   "execution_count": 23,
   "id": "9390578e",
   "metadata": {},
   "outputs": [
    {
     "name": "stdout",
     "output_type": "stream",
     "text": [
      "1.633123935319537e+16\n"
     ]
    }
   ],
   "source": [
    "print(m.tan(m.pi/2))\n"
   ]
  },
  {
   "cell_type": "code",
   "execution_count": 24,
   "id": "e5d2f8ae",
   "metadata": {},
   "outputs": [
    {
     "name": "stdout",
     "output_type": "stream",
     "text": [
      "3628800\n"
     ]
    }
   ],
   "source": [
    "a = m.factorial(10)\n",
    "print(a)"
   ]
  },
  {
   "cell_type": "code",
   "execution_count": 25,
   "id": "060158c5",
   "metadata": {},
   "outputs": [],
   "source": [
    "#lambda function"
   ]
  },
  {
   "cell_type": "code",
   "execution_count": 26,
   "id": "fe62d659",
   "metadata": {},
   "outputs": [],
   "source": [
    "#lambda <argument>:<operation>"
   ]
  },
  {
   "cell_type": "code",
   "execution_count": 28,
   "id": "aff42c59",
   "metadata": {},
   "outputs": [
    {
     "name": "stdout",
     "output_type": "stream",
     "text": [
      "25\n"
     ]
    }
   ],
   "source": [
    "a = lambda x:x**2\n",
    "print(a(5))"
   ]
  },
  {
   "cell_type": "code",
   "execution_count": 29,
   "id": "afab2772",
   "metadata": {},
   "outputs": [
    {
     "name": "stdout",
     "output_type": "stream",
     "text": [
      "20\n"
     ]
    }
   ],
   "source": [
    "a = lambda x,y:x*y\n",
    "print(a(4,5))"
   ]
  },
  {
   "cell_type": "code",
   "execution_count": null,
   "id": "8a43cf6a",
   "metadata": {},
   "outputs": [],
   "source": [
    " #   filter function\n",
    "#  map function"
   ]
  },
  {
   "cell_type": "code",
   "execution_count": null,
   "id": "89b73a67",
   "metadata": {},
   "outputs": [],
   "source": [
    "#filter \n",
    "filter((lambda <argument>:<condition>),list)\n"
   ]
  },
  {
   "cell_type": "code",
   "execution_count": 30,
   "id": "e2a9f12b",
   "metadata": {},
   "outputs": [
    {
     "data": {
      "text/plain": [
       "[2, 4, 6, 8, 10]"
      ]
     },
     "execution_count": 30,
     "metadata": {},
     "output_type": "execute_result"
    }
   ],
   "source": [
    "a = [1,2,3,4,5,6,7,8,9,10]\n",
    "list (filter((lambda x:x%2 == 0),a))"
   ]
  },
  {
   "cell_type": "code",
   "execution_count": 35,
   "id": "62f6656a",
   "metadata": {},
   "outputs": [
    {
     "data": {
      "text/plain": [
       "['DOG']"
      ]
     },
     "execution_count": 35,
     "metadata": {},
     "output_type": "execute_result"
    }
   ],
   "source": [
    "a = ['Apple','Ball','Cat','DOG','Fish','bat']\n",
    "list (filter((lambda x:x.isupper()),a))"
   ]
  },
  {
   "cell_type": "code",
   "execution_count": 36,
   "id": "74ee5cf1",
   "metadata": {},
   "outputs": [],
   "source": [
    "#map function"
   ]
  },
  {
   "cell_type": "code",
   "execution_count": null,
   "id": "40cdcec5",
   "metadata": {},
   "outputs": [],
   "source": [
    "#map((lambda <argument>:<operation>),list)"
   ]
  },
  {
   "cell_type": "code",
   "execution_count": 40,
   "id": "cfd5a419",
   "metadata": {},
   "outputs": [
    {
     "data": {
      "text/plain": [
       "['apple', 'ball', 'cat', 'dog', 'fish', 'bat']"
      ]
     },
     "execution_count": 40,
     "metadata": {},
     "output_type": "execute_result"
    }
   ],
   "source": [
    "a = ['Apple','Ball','Cat','Dog','Fish','Bat']\n",
    "b = list (map(lambda x:x.lower(),a))\n",
    "b"
   ]
  },
  {
   "cell_type": "code",
   "execution_count": 43,
   "id": "d16b87f5",
   "metadata": {},
   "outputs": [
    {
     "data": {
      "text/plain": [
       "[1, 4, 9, 16, 25, 36, 49, 64, 81, 100]"
      ]
     },
     "execution_count": 43,
     "metadata": {},
     "output_type": "execute_result"
    }
   ],
   "source": [
    "a =[1,2,3,4,5,6,7,8,9,10]\n",
    "b = list (map(lambda x:x**2,a))\n",
    "b"
   ]
  },
  {
   "cell_type": "code",
   "execution_count": 45,
   "id": "660d6e7f",
   "metadata": {},
   "outputs": [
    {
     "data": {
      "text/plain": [
       "[24000.0, 36000.0, 48000.0, 60000.0, 72000.0, 84000.0, 24000.0]"
      ]
     },
     "execution_count": 45,
     "metadata": {},
     "output_type": "execute_result"
    }
   ],
   "source": [
    "a = [20000,30000,40000,50000,60000,70000,20000]\n",
    "b = list (map(lambda x:x*1.2,a))\n",
    "b"
   ]
  },
  {
   "cell_type": "code",
   "execution_count": null,
   "id": "39d28cc3",
   "metadata": {},
   "outputs": [],
   "source": [
    "#list and dict"
   ]
  },
  {
   "cell_type": "code",
   "execution_count": 47,
   "id": "75235777",
   "metadata": {},
   "outputs": [
    {
     "data": {
      "text/plain": [
       "[0, 1, 2, 3, 4, 5, 6, 7, 8, 9]"
      ]
     },
     "execution_count": 47,
     "metadata": {},
     "output_type": "execute_result"
    }
   ],
   "source": [
    "a = [i for i in range(10)]\n",
    "a"
   ]
  },
  {
   "cell_type": "code",
   "execution_count": 49,
   "id": "3c71428b",
   "metadata": {},
   "outputs": [
    {
     "name": "stdout",
     "output_type": "stream",
     "text": [
      "Enter value: 1\n",
      "Enter value: 2\n",
      "Enter value: 3\n",
      "Enter value: 4\n",
      "Enter value: 5\n"
     ]
    },
    {
     "data": {
      "text/plain": [
       "[1, 2, 3, 4, 5]"
      ]
     },
     "execution_count": 49,
     "metadata": {},
     "output_type": "execute_result"
    }
   ],
   "source": [
    "a = [int(input(\"Enter value: \")) for i in range(5)]\n",
    "a"
   ]
  },
  {
   "cell_type": "code",
   "execution_count": 5,
   "id": "9bf27509",
   "metadata": {},
   "outputs": [
    {
     "name": "stdout",
     "output_type": "stream",
     "text": [
      "Enter value: 1\n",
      "Enter value: 2\n",
      "Enter value: 3\n",
      "Enter value: 4\n",
      "Enter value: 5\n",
      "<built-in function sum>\n"
     ]
    }
   ],
   "source": [
    "a = ([int(input(\"Enter value: \")) for i in range(5)])\n",
    "a\n",
    "print(sum)"
   ]
  },
  {
   "cell_type": "code",
   "execution_count": null,
   "id": "fb1ef7ec",
   "metadata": {},
   "outputs": [],
   "source": [
    "a = {input(\"Enter name= \"):input('Enter phone= ') for i in range(5)}\n",
    "print(a)km"
   ]
  },
  {
   "cell_type": "code",
   "execution_count": 1,
   "id": "2457e01f",
   "metadata": {},
   "outputs": [
    {
     "name": "stdout",
     "output_type": "stream",
     "text": [
      "{1: 1, 2: 4, 3: 9, 4: 16, 5: 25, 6: 36, 7: 49, 8: 64, 9: 81}\n"
     ]
    }
   ],
   "source": [
    "x =[1,2,3,4,5,6,7,8,9]\n",
    "a = {i:i**2 for i in x}\n",
    "print(a)"
   ]
  },
  {
   "cell_type": "code",
   "execution_count": null,
   "id": "04592240",
   "metadata": {},
   "outputs": [],
   "source": []
  },
  {
   "cell_type": "code",
   "execution_count": null,
   "id": "a236ad4d",
   "metadata": {},
   "outputs": [],
   "source": []
  }
 ],
 "metadata": {
  "kernelspec": {
   "display_name": "Python 3 (ipykernel)",
   "language": "python",
   "name": "python3"
  },
  "language_info": {
   "codemirror_mode": {
    "name": "ipython",
    "version": 3
   },
   "file_extension": ".py",
   "mimetype": "text/x-python",
   "name": "python",
   "nbconvert_exporter": "python",
   "pygments_lexer": "ipython3",
   "version": "3.11.7"
  }
 },
 "nbformat": 4,
 "nbformat_minor": 5
}
