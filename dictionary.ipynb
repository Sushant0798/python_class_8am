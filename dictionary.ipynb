{
 "cells": [
  {
   "cell_type": "code",
   "execution_count": 1,
   "id": "753d2724",
   "metadata": {},
   "outputs": [],
   "source": [
    "## dictionary\n",
    "#indexng\n",
    "#multiple and duplicate data or value\n",
    "#ordered\n",
    "#mutable"
   ]
  },
  {
   "cell_type": "code",
   "execution_count": 15,
   "id": "90fa4841",
   "metadata": {},
   "outputs": [
    {
     "name": "stdout",
     "output_type": "stream",
     "text": [
      "<class 'dict'>\n"
     ]
    }
   ],
   "source": [
    "d = {}\n",
    "print(type(d))"
   ]
  },
  {
   "cell_type": "code",
   "execution_count": null,
   "id": "20abf18b",
   "metadata": {},
   "outputs": [],
   "source": [
    "#d = {<key>:<value>}"
   ]
  },
  {
   "cell_type": "code",
   "execution_count": 5,
   "id": "905fcf2e",
   "metadata": {},
   "outputs": [
    {
     "name": "stdout",
     "output_type": "stream",
     "text": [
      "apple\n",
      "ball\n"
     ]
    },
    {
     "data": {
      "text/plain": [
       "{'a': 'apple', 'b': 'ball'}"
      ]
     },
     "execution_count": 5,
     "metadata": {},
     "output_type": "execute_result"
    }
   ],
   "source": [
    "d = {'a':'apple','b':'ball'}\n",
    "print(d['a'])\n",
    "print(d['b'])\n",
    "d"
   ]
  },
  {
   "cell_type": "code",
   "execution_count": 6,
   "id": "2dde0f53",
   "metadata": {},
   "outputs": [],
   "source": [
    "a = {1:1,2:4,3:9,4:16}\n",
    "b ={'a':'apple','b':'ball'}\n"
   ]
  },
  {
   "cell_type": "code",
   "execution_count": 7,
   "id": "704b052b",
   "metadata": {},
   "outputs": [
    {
     "data": {
      "text/plain": [
       "{'a': 'apple', 'b': 'ball', 'c': 'cat'}"
      ]
     },
     "execution_count": 7,
     "metadata": {},
     "output_type": "execute_result"
    }
   ],
   "source": [
    "a ={}\n",
    "a['a'] = 'apple'\n",
    "a['b'] = 'ball'\n",
    "a['c'] = 'cat'\n",
    "a"
   ]
  },
  {
   "cell_type": "code",
   "execution_count": 8,
   "id": "4f13ca3c",
   "metadata": {},
   "outputs": [
    {
     "name": "stdout",
     "output_type": "stream",
     "text": [
      "Enter n: 2\n",
      "enter name: ram\n",
      "enter age: 33\n",
      "enter phone: 980000000\n",
      "enter name: Shyam\n",
      "enter age: 44\n",
      "enter phone: 98760\n",
      "{'ram': 980000000, 'Shyam': 98760}\n"
     ]
    }
   ],
   "source": [
    "a = {}\n",
    "n = int(input('Enter n: '))\n",
    "for i in range(n):\n",
    "    name = input(\"enter name: \")\n",
    "    age = input('enter age: ')\n",
    "    phone = int(input('enter phone: '))\n",
    "    a[name] = phone\n",
    "print(a)"
   ]
  },
  {
   "cell_type": "code",
   "execution_count": 9,
   "id": "2cf9d73a",
   "metadata": {},
   "outputs": [
    {
     "data": {
      "text/plain": [
       "980000000"
      ]
     },
     "execution_count": 9,
     "metadata": {},
     "output_type": "execute_result"
    }
   ],
   "source": [
    "a['ram']"
   ]
  },
  {
   "cell_type": "code",
   "execution_count": 10,
   "id": "8231fbf8",
   "metadata": {},
   "outputs": [
    {
     "name": "stdout",
     "output_type": "stream",
     "text": [
      "ram\n",
      "Shyam\n",
      "Hari\n"
     ]
    }
   ],
   "source": [
    "a = {'ram': 980000000, 'Shyam': 98760, 'Hari':'9865456700'}\n",
    "for i in (a):\n",
    "    print(i)"
   ]
  },
  {
   "cell_type": "code",
   "execution_count": 11,
   "id": "4d2a2403",
   "metadata": {},
   "outputs": [
    {
     "name": "stdout",
     "output_type": "stream",
     "text": [
      "980000000\n",
      "98760\n",
      "9865456700\n"
     ]
    }
   ],
   "source": [
    "a = {'ram': 980000000, 'Shyam': 98760, 'Hari':'9865456700'}\n",
    "for i in (a).values():\n",
    "    print(i)"
   ]
  },
  {
   "cell_type": "code",
   "execution_count": 12,
   "id": "2ebaa9c7",
   "metadata": {},
   "outputs": [
    {
     "name": "stdout",
     "output_type": "stream",
     "text": [
      "('ram', 980000000)\n",
      "('Shyam', 98760)\n",
      "('Hari', '9865456700')\n"
     ]
    }
   ],
   "source": [
    "a = {'ram': 980000000, 'Shyam': 98760, 'Hari':'9865456700'}\n",
    "for i in (a).items():\n",
    "    print(i)"
   ]
  },
  {
   "cell_type": "code",
   "execution_count": 13,
   "id": "7ef0fba5",
   "metadata": {},
   "outputs": [
    {
     "data": {
      "text/plain": [
       "{'ram': 9834543334, 'Shyam': 98760, 'Hari': '9865456700'}"
      ]
     },
     "execution_count": 13,
     "metadata": {},
     "output_type": "execute_result"
    }
   ],
   "source": [
    "a = {'ram': 980000000, 'Shyam': 98760, 'Hari':'9865456700'}\n",
    "a['ram'] = 9834543334\n",
    "a"
   ]
  },
  {
   "cell_type": "code",
   "execution_count": 15,
   "id": "562c29f9",
   "metadata": {},
   "outputs": [
    {
     "data": {
      "text/plain": [
       "{'ram': ['rama'], 'Shyam': 98760, 'Hari': '9865456700'}"
      ]
     },
     "execution_count": 15,
     "metadata": {},
     "output_type": "execute_result"
    }
   ],
   "source": [
    "a = {'ram': 9834543334, 'Shyam': 98760, 'Hari': '9865456700'}\n",
    "a['ram'] = ['rama']\n",
    "a"
   ]
  },
  {
   "cell_type": "code",
   "execution_count": 17,
   "id": "738a33ff",
   "metadata": {},
   "outputs": [
    {
     "data": {
      "text/plain": [
       "{'ram': 9834543334,\n",
       " 'Shyam': 98760,\n",
       " 'Hari': '9865456700',\n",
       " 'Sita': 9875434578,\n",
       " 'nabin': 98555565}"
      ]
     },
     "execution_count": 17,
     "metadata": {},
     "output_type": "execute_result"
    }
   ],
   "source": [
    "a = {'ram': 9834543334, 'Shyam': 98760, 'Hari': '9865456700'}\n",
    "b = {'Sita':9875434578,'nabin':98555565}\n",
    "a.update(b)\n",
    "a"
   ]
  },
  {
   "cell_type": "code",
   "execution_count": 18,
   "id": "8386fb1f",
   "metadata": {},
   "outputs": [],
   "source": [
    "#delete in dict\n",
    "#del,pop"
   ]
  },
  {
   "cell_type": "code",
   "execution_count": 19,
   "id": "5cc2acf7",
   "metadata": {},
   "outputs": [
    {
     "data": {
      "text/plain": [
       "{'Shyam': 98760, 'Hari': '9865456700'}"
      ]
     },
     "execution_count": 19,
     "metadata": {},
     "output_type": "execute_result"
    }
   ],
   "source": [
    "a = {'ram': 9834543334, 'Shyam': 98760, 'Hari': '9865456700'}\n",
    "del a['ram']\n",
    "a"
   ]
  },
  {
   "cell_type": "code",
   "execution_count": 22,
   "id": "87aa9795",
   "metadata": {},
   "outputs": [
    {
     "name": "stdout",
     "output_type": "stream",
     "text": [
      "9834543334\n",
      "{'Shyam': 98760, 'Hari': '9865456700'}\n"
     ]
    }
   ],
   "source": [
    "a = {'ram': 9834543334, 'Shyam': 98760, 'Hari': '9865456700'}\n",
    "b = a.pop('ram')\n",
    "print(b)\n",
    "print(a)"
   ]
  },
  {
   "cell_type": "code",
   "execution_count": 23,
   "id": "af9b92fc",
   "metadata": {},
   "outputs": [],
   "source": [
    "#list inside dict"
   ]
  },
  {
   "cell_type": "code",
   "execution_count": 24,
   "id": "8b3bc183",
   "metadata": {},
   "outputs": [
    {
     "data": {
      "text/plain": [
       "[9834543334, 98345665555]"
      ]
     },
     "execution_count": 24,
     "metadata": {},
     "output_type": "execute_result"
    }
   ],
   "source": [
    "a = a = {'ram': [9834543334,98345665555] ,'Shyam': [98760,98233456777], 'Hari': [9865456700,98445666666]}\n",
    "a['ram']\n"
   ]
  },
  {
   "cell_type": "code",
   "execution_count": 26,
   "id": "f51058b7",
   "metadata": {},
   "outputs": [
    {
     "data": {
      "text/plain": [
       "{'name': ['Ram', 'Shyam', 'Sita'],\n",
       " 'age': [34, 44, 53],\n",
       " 'add': ['kathmandu', 'lalitpur', 'bhaktapur']}"
      ]
     },
     "execution_count": 26,
     "metadata": {},
     "output_type": "execute_result"
    }
   ],
   "source": [
    "a = {'name':['Ram','Shyam','Sita'],\n",
    "    'age':[34,44,53],\n",
    "     'add':['kathmandu','lalitpur','bhaktapur']}\n",
    "a"
   ]
  },
  {
   "cell_type": "code",
   "execution_count": 29,
   "id": "69f6875c",
   "metadata": {},
   "outputs": [
    {
     "name": "stdout",
     "output_type": "stream",
     "text": [
      "Enter n: 2\n",
      "enter name: ram\n",
      "enter ntc no: 98333333\n",
      "enter ncell no: 97333\n",
      "enter name: Shyam\n",
      "enter ntc no: 983333\n",
      "enter ncell no: 9732222\n"
     ]
    },
    {
     "data": {
      "text/plain": [
       "{'ram': [98333333, 97333], 'Shyam': [983333, 9732222]}"
      ]
     },
     "execution_count": 29,
     "metadata": {},
     "output_type": "execute_result"
    }
   ],
   "source": [
    "a ={}\n",
    "n = int(input(\"Enter n: \"))\n",
    "for i in range(n):\n",
    "    name = input(\"enter name: \")\n",
    "    ntc = int(input(\"enter ntc no: \"))\n",
    "    ncell = int(input(\"enter ncell no: \"))\n",
    "    a[name] = [ntc,ncell]\n",
    "    \n",
    "print(a)\n",
    "   "
   ]
  },
  {
   "cell_type": "code",
   "execution_count": 33,
   "id": "ebe9839f",
   "metadata": {},
   "outputs": [
    {
     "name": "stdout",
     "output_type": "stream",
     "text": [
      "Enter n: 2\n",
      "enter name: ram\n",
      "enter age: 22\n",
      "enter add: kathmandu\n",
      "enter name: shyam\n",
      "enter age: 33\n",
      "enter add: bhaktapur\n",
      "{'name': ['ram', 'shyam'], 'age': [22, 33], 'add': ['kathmandu', 'bhaktapur']}\n"
     ]
    }
   ],
   "source": [
    "a = {'name':[],'age':[],'add':[]}\n",
    "n = int(input('Enter n: '))\n",
    "\n",
    "for i in range(n):\n",
    "    name = input('enter name: ')\n",
    "    age = int(input('enter age: '))\n",
    "    add = input('enter add: ')\n",
    "    a['name'].append(name)\n",
    "    a['age'].append(age)\n",
    "    a['add'].append(add)\n",
    "    \n",
    "print(a)"
   ]
  },
  {
   "cell_type": "code",
   "execution_count": 34,
   "id": "fe0db456",
   "metadata": {},
   "outputs": [
    {
     "name": "stdout",
     "output_type": "stream",
     "text": [
      "name:  ram\n"
     ]
    }
   ],
   "source": [
    "a = {'name': ['ram', 'shyam'], 'age': [22, 33], 'add': ['kathmandu', 'bhaktapur']}\n",
    "print('name: ',a['name'][0])"
   ]
  },
  {
   "cell_type": "code",
   "execution_count": 35,
   "id": "567ec59d",
   "metadata": {},
   "outputs": [
    {
     "data": {
      "text/plain": [
       "{'name': ['ram', 'shyam'], 'age': [33, 33], 'add': ['kathmandu', 'bhaktapur']}"
      ]
     },
     "execution_count": 35,
     "metadata": {},
     "output_type": "execute_result"
    }
   ],
   "source": [
    "a = {'name': ['ram', 'shyam'], 'age': [22, 33], 'add': ['kathmandu', 'bhaktapur']}\n",
    "a['age'][0] = 33\n",
    "a"
   ]
  },
  {
   "cell_type": "code",
   "execution_count": 37,
   "id": "c34f4d4a",
   "metadata": {},
   "outputs": [
    {
     "data": {
      "text/plain": [
       "{'name': ['shyam'], 'age': [33], 'add': ['bhaktapur']}"
      ]
     },
     "execution_count": 37,
     "metadata": {},
     "output_type": "execute_result"
    }
   ],
   "source": [
    "a = {'name': ['ram', 'shyam'], 'age': [22, 33], 'add': ['kathmandu', 'bhaktapur']}\n",
    "del a ['name'][0]\n",
    "del a['age'][0]\n",
    "del a['add'][0]\n",
    "a"
   ]
  },
  {
   "cell_type": "code",
   "execution_count": 39,
   "id": "9c1646f1",
   "metadata": {},
   "outputs": [
    {
     "name": "stdout",
     "output_type": "stream",
     "text": [
      "enter index: 1\n",
      "{'name': ['ram'], 'age': [33], 'add': ['kathmandu']}\n"
     ]
    }
   ],
   "source": [
    "a = {'name': ['ram', 'shyam'], 'age': [33, 33], 'add': ['kathmandu', 'bhaktapur']}\n",
    "k = list(a.keys())\n",
    "index = int(input(\"enter index: \"))\n",
    "for i in a:\n",
    "    del a [i][index]\n",
    "    \n",
    "print(a)"
   ]
  },
  {
   "cell_type": "code",
   "execution_count": 41,
   "id": "d481d9ad",
   "metadata": {},
   "outputs": [
    {
     "name": "stdout",
     "output_type": "stream",
     "text": [
      "enter index: 0\n",
      "enter namerama\n",
      "enter age33\n",
      "enter addpokhare\n",
      "{'name': ['rama', 'shyam'], 'age': ['33', 33], 'add': ['pokhare', 'bhaktapur']}\n"
     ]
    }
   ],
   "source": [
    "a = {'name': ['ram', 'shyam'], 'age': [33, 33], 'add': ['kathmandu', 'bhaktapur']}\n",
    "\n",
    "index = int(input('enter index: '))\n",
    "for i in a:\n",
    "    x = input(f\"enter {i}\")\n",
    "    a[i][index] = x\n",
    "    \n",
    "print(a)"
   ]
  },
  {
   "cell_type": "code",
   "execution_count": 2,
   "id": "33ad40f0",
   "metadata": {},
   "outputs": [],
   "source": [
    "#dict inside list"
   ]
  },
  {
   "cell_type": "code",
   "execution_count": 5,
   "id": "0e3b7a0c",
   "metadata": {},
   "outputs": [
    {
     "data": {
      "text/plain": [
       "[{'name': 'ram', 'age': '32', 'add': 'kathmandu'},\n",
       " {'name': 'Shyam', 'age': '45', 'add': 'bhaktapur'},\n",
       " {'name': 'gita', 'age': '22', 'add': 'lalitpur'}]"
      ]
     },
     "execution_count": 5,
     "metadata": {},
     "output_type": "execute_result"
    }
   ],
   "source": [
    "l = [{'name':'ram','age':'32','add': 'kathmandu'},\n",
    "    {'name':'Shyam','age':'45','add': 'bhaktapur'},\n",
    "    {'name':'gita','age':'22','add': 'lalitpur'}]\n",
    "l"
   ]
  },
  {
   "cell_type": "code",
   "execution_count": null,
   "id": "9f850563",
   "metadata": {},
   "outputs": [],
   "source": [
    "l= []\n",
    "n = int(input(\"Enter n: \"))\n",
    "for i in range(n):\n",
    "    name = input(\"enter name: \")\n",
    "    age = int(input(\"enter age: \"))\n",
    "    add = input(\"enter add: \")\n",
    "    d = {'name':name,'age':age,'add':add}\n",
    "    l.append(d)\n",
    "    \n",
    "print(l)\n"
   ]
  },
  {
   "cell_type": "code",
   "execution_count": null,
   "id": "4ded1ddd",
   "metadata": {},
   "outputs": [],
   "source": [
    "# wap  to update ,delete read to the program"
   ]
  },
  {
   "cell_type": "code",
   "execution_count": 14,
   "id": "4c628309",
   "metadata": {},
   "outputs": [
    {
     "name": "stdout",
     "output_type": "stream",
     "text": [
      "enter index: 1\n"
     ]
    },
    {
     "ename": "TypeError",
     "evalue": "list indices must be integers or slices, not list",
     "output_type": "error",
     "traceback": [
      "\u001b[1;31m---------------------------------------------------------------------------\u001b[0m",
      "\u001b[1;31mTypeError\u001b[0m                                 Traceback (most recent call last)",
      "Cell \u001b[1;32mIn[14], line 6\u001b[0m\n\u001b[0;32m      4\u001b[0m index \u001b[38;5;241m=\u001b[39m \u001b[38;5;28mint\u001b[39m(\u001b[38;5;28minput\u001b[39m(\u001b[38;5;124m\"\u001b[39m\u001b[38;5;124menter index: \u001b[39m\u001b[38;5;124m\"\u001b[39m))\n\u001b[0;32m      5\u001b[0m \u001b[38;5;28;01mfor\u001b[39;00m i \u001b[38;5;129;01min\u001b[39;00m l:\n\u001b[1;32m----> 6\u001b[0m     \u001b[38;5;28;01mdel\u001b[39;00m l [l][index]\n\u001b[0;32m      8\u001b[0m \u001b[38;5;28mprint\u001b[39m(l)\n",
      "\u001b[1;31mTypeError\u001b[0m: list indices must be integers or slices, not list"
     ]
    }
   ],
   "source": [
    "l = [{'name':'ram','age':'32','add': 'kathmandu'}, \n",
    "     {'name':'Shyam','age':'45','add': 'bhaktapur'},\n",
    "     {'name':'gita','age':'22','add': 'lalitpur'}]\n",
    "index = int(input(\"enter index: \"))\n",
    "for i in l:\n",
    "    del l [i1][index]\n",
    "    \n",
    "print(l)"
   ]
  },
  {
   "cell_type": "code",
   "execution_count": 6,
   "id": "4eb716bf",
   "metadata": {},
   "outputs": [],
   "source": [
    "#dict inside dict"
   ]
  },
  {
   "cell_type": "code",
   "execution_count": 2,
   "id": "c1af0e1a",
   "metadata": {},
   "outputs": [
    {
     "name": "stdout",
     "output_type": "stream",
     "text": [
      "<class 'dict'>\n"
     ]
    }
   ],
   "source": [
    "d = {1:{'name':'Ram','age':42,'add':'kathmandu'},\n",
    "    2:{'name':'Shyam','age':22,'add':'lalitpur'},\n",
    "    3:{'name':'Rama','age':38,'add':'bhaktapur'},}"
   ]
  },
  {
   "cell_type": "code",
   "execution_count": 1,
   "id": "0563c50b",
   "metadata": {},
   "outputs": [
    {
     "name": "stdout",
     "output_type": "stream",
     "text": [
      "Enter n: 2\n",
      "enter name: Ram\n",
      "enter age: 22\n",
      "enter add: Kathmandu\n",
      "enter name: Shyam\n",
      "enter age: 44\n",
      "enter add: Bhaktapur\n",
      "{1: {'name': 'Ram', 'age': 22, 'add': 'Kathmandu'}, 2: {'name': 'Shyam', 'age': 44, 'add': 'Bhaktapur'}}\n"
     ]
    }
   ],
   "source": [
    "info = {}\n",
    "n = int(input(\"Enter n: \"))\n",
    "for i in range(1,n+1):\n",
    "    name = input(\"enter name: \")\n",
    "    age = int(input(\"enter age: \"))\n",
    "    add = input(\"enter add: \")\n",
    "    info[i] = {'name':name,'age':age,'add':add}\n",
    "\n",
    "print(info)"
   ]
  },
  {
   "cell_type": "code",
   "execution_count": null,
   "id": "f98b7767",
   "metadata": {},
   "outputs": [],
   "source": [
    "# wap  to add, update ,delete read to the program"
   ]
  },
  {
   "cell_type": "code",
   "execution_count": null,
   "id": "0cae6cd0",
   "metadata": {},
   "outputs": [],
   "source": []
  }
 ],
 "metadata": {
  "kernelspec": {
   "display_name": "Python 3 (ipykernel)",
   "language": "python",
   "name": "python3"
  },
  "language_info": {
   "codemirror_mode": {
    "name": "ipython",
    "version": 3
   },
   "file_extension": ".py",
   "mimetype": "text/x-python",
   "name": "python",
   "nbconvert_exporter": "python",
   "pygments_lexer": "ipython3",
   "version": "3.11.7"
  }
 },
 "nbformat": 4,
 "nbformat_minor": 5
}
