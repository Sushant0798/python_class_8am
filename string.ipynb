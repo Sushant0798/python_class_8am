{
 "cells": [
  {
   "cell_type": "code",
   "execution_count": 1,
   "id": "7ce8945d",
   "metadata": {},
   "outputs": [
    {
     "name": "stdout",
     "output_type": "stream",
     "text": [
      "<class 'str'>\n",
      "<class 'str'>\n",
      "<class 'str'>\n"
     ]
    }
   ],
   "source": [
    "a = 'hello world'\n",
    "b = \"hello world\"\n",
    "c = '''hello world'''\n",
    "print(type(a))\n",
    "print(type(b))\n",
    "print(type(c))"
   ]
  },
  {
   "cell_type": "code",
   "execution_count": 2,
   "id": "47b54a08",
   "metadata": {},
   "outputs": [
    {
     "name": "stdout",
     "output_type": "stream",
     "text": [
      "Hello world\n"
     ]
    }
   ],
   "source": [
    "a = \"Hello\"\n",
    "b =\" world\"\n",
    "print(a +b)\n"
   ]
  },
  {
   "cell_type": "code",
   "execution_count": 3,
   "id": "bd267179",
   "metadata": {},
   "outputs": [
    {
     "name": "stdout",
     "output_type": "stream",
     "text": [
      "H\n",
      "Hello\n",
      "Hlowr\n",
      " world\n",
      "d\n",
      "\n"
     ]
    }
   ],
   "source": [
    "a = \"Hello world\"\n",
    "print(a[0])\n",
    "print(a[0:5])\n",
    "print(a[0:10:2])\n",
    "print(a[5:])\n",
    "print(a[-1])\n",
    "print()"
   ]
  },
  {
   "cell_type": "code",
   "execution_count": 4,
   "id": "7fbb7938",
   "metadata": {},
   "outputs": [
    {
     "name": "stdout",
     "output_type": "stream",
     "text": [
      "drwol\n"
     ]
    }
   ],
   "source": [
    "a = \"Hello world\"\n",
    "print(a[-1:-11:-2])"
   ]
  },
  {
   "cell_type": "code",
   "execution_count": 5,
   "id": "97e1dbbd",
   "metadata": {},
   "outputs": [
    {
     "name": "stdout",
     "output_type": "stream",
     "text": [
      "dlrow olleH\n"
     ]
    }
   ],
   "source": [
    "print(a[::-1])"
   ]
  },
  {
   "cell_type": "code",
   "execution_count": 1,
   "id": "b3cabcaa",
   "metadata": {},
   "outputs": [
    {
     "name": "stdout",
     "output_type": "stream",
     "text": [
      "H\n",
      "e\n",
      "l\n",
      "l\n",
      "o\n",
      " \n",
      "w\n",
      "o\n",
      "r\n",
      "l\n",
      "d\n"
     ]
    }
   ],
   "source": [
    "a = \"Hello world\"\n",
    "l = len(a)\n",
    "for j in range(l):\n",
    "    print(a[j])"
   ]
  },
  {
   "cell_type": "code",
   "execution_count": 7,
   "id": "3ed74926",
   "metadata": {},
   "outputs": [
    {
     "name": "stdout",
     "output_type": "stream",
     "text": [
      "H\n",
      "e\n",
      "l\n",
      "l\n",
      "o\n",
      " \n",
      "w\n",
      "o\n",
      "r\n",
      "l\n",
      "d\n"
     ]
    }
   ],
   "source": [
    "a = \"Hello world\"\n",
    "i = 0 \n",
    "l = len(a)\n",
    "while i< l:\n",
    "    print(a[i])\n",
    "    i = i+1"
   ]
  },
  {
   "cell_type": "code",
   "execution_count": 8,
   "id": "f53daa5e",
   "metadata": {},
   "outputs": [],
   "source": [
    "#string formating"
   ]
  },
  {
   "cell_type": "code",
   "execution_count": 2,
   "id": "ac806b16",
   "metadata": {},
   "outputs": [
    {
     "name": "stdout",
     "output_type": "stream",
     "text": [
      "enter your name:sushant\n",
      "enter your age: 22\n",
      "enter your add: ktm\n",
      "Hello world I am sushant I am 22 I am formktm.\n"
     ]
    }
   ],
   "source": [
    "name = input(\"enter your name:\")\n",
    "age = int(input(\"enter your age: \"))\n",
    "add = input(\"enter your add: \")\n",
    "info = f\"Hello world I am {name} I am {age} I am form {add}.\"\n",
    "print(info)"
   ]
  },
  {
   "cell_type": "code",
   "execution_count": null,
   "id": "5c967b57",
   "metadata": {},
   "outputs": [],
   "source": [
    "total = \" \"\n",
    "all_total = 0\n",
    "A = int(input(\"enter amount: \"))\n",
    "for i in range(A):\n",
    "    o = input('\\nenter object: ')\n",
    "    q = int(input(\"\\nenter quantiti: \"))\n",
    "    t = int(input(\"\\namount: \"))\n",
    "    a = (q * t)\n",
    "    \n",
    "    total= total +f\"{o} {q} {t}\\n\"\n",
    "    all_total = all_total + a\n",
    "print(total)\n",
    "print(\"the sum total : \",all_total)\n"
   ]
  },
  {
   "cell_type": "code",
   "execution_count": null,
   "id": "51560685",
   "metadata": {},
   "outputs": [],
   "source": [
    "a = \"ram shyam hari sita gita ramesh\"\n",
    "search =input(\"enter name: \")\n",
    "if search in a :\n",
    "    print(\"yes\",a.count(search))\n",
    "else:\n",
    "    print(\"no\")\n",
    "    "
   ]
  },
  {
   "cell_type": "code",
   "execution_count": null,
   "id": "c79c935b",
   "metadata": {},
   "outputs": [],
   "source": [
    "a = \"ram shyam hari sita gita ramesh\"\n",
    "print(a.upper())\n",
    "print(a.lower())"
   ]
  },
  {
   "cell_type": "code",
   "execution_count": null,
   "id": "654c7a36",
   "metadata": {},
   "outputs": [],
   "source": [
    "a = \"ram Shyam hari sita gita ramesh\".upper()\n",
    "search =input(\"enter name: \").upper()\n",
    "if search in a :\n",
    "    print(\"yes\",a.count(search))\n",
    "else:\n",
    "    print(\"no\")\n",
    "    "
   ]
  },
  {
   "cell_type": "code",
   "execution_count": null,
   "id": "25920b3b",
   "metadata": {},
   "outputs": [],
   "source": [
    "a = \"ram Shyam hari sita gita ramesh\"\n",
    "b = input(\"enter name: \")\n",
    "if b not in a :\n",
    "    print(\"no\")"
   ]
  },
  {
   "cell_type": "code",
   "execution_count": null,
   "id": "0ac1b1d3",
   "metadata": {},
   "outputs": [],
   "source": [
    "a = \"ram Shyam hari sita gita ramesh\"\n",
    "print(a.title())"
   ]
  },
  {
   "cell_type": "code",
   "execution_count": null,
   "id": "b5f37317",
   "metadata": {},
   "outputs": [],
   "source": [
    "a = \"ram shyam hari sita gita ramesh\"\n",
    "print(a.isupper())\n",
    "print(a.islower())"
   ]
  },
  {
   "cell_type": "code",
   "execution_count": null,
   "id": "46f0abb5",
   "metadata": {},
   "outputs": [],
   "source": [
    "a = \"Ram\"\n",
    "a[0].isupper()"
   ]
  },
  {
   "cell_type": "code",
   "execution_count": null,
   "id": "a44ad434",
   "metadata": {},
   "outputs": [],
   "source": [
    "#replace function"
   ]
  },
  {
   "cell_type": "code",
   "execution_count": null,
   "id": "150d350f",
   "metadata": {},
   "outputs": [],
   "source": [
    "a = \"ram Shyam hari sita gita ramesh\"\n",
    "a.replace(\"ram\",\"rama\")"
   ]
  },
  {
   "cell_type": "code",
   "execution_count": null,
   "id": "d5e4246b",
   "metadata": {},
   "outputs": [],
   "source": [
    "a = \"ram Shyam hari sita gita \"\n",
    "b = input(\"enter name to change: \")\n",
    "c = input(\"enter name to change in: \")\n",
    "a.replace(b,c)"
   ]
  },
  {
   "cell_type": "code",
   "execution_count": null,
   "id": "0d9ef5d0",
   "metadata": {},
   "outputs": [],
   "source": [
    "a = int(input(\"enter number\"))\n",
    "b = a[::-1]\n",
    "print(\"yes\")\n"
   ]
  },
  {
   "cell_type": "code",
   "execution_count": 1,
   "id": "a4558c89",
   "metadata": {},
   "outputs": [
    {
     "data": {
      "text/plain": [
       "'C:\\\\Users\\\\Acer\\\\python class 8am'"
      ]
     },
     "execution_count": 1,
     "metadata": {},
     "output_type": "execute_result"
    }
   ],
   "source": [
    "pwd"
   ]
  },
  {
   "cell_type": "code",
   "execution_count": null,
   "id": "ff81ecaa",
   "metadata": {},
   "outputs": [],
   "source": []
  }
 ],
 "metadata": {
  "kernelspec": {
   "display_name": "Python 3 (ipykernel)",
   "language": "python",
   "name": "python3"
  },
  "language_info": {
   "codemirror_mode": {
    "name": "ipython",
    "version": 3
   },
   "file_extension": ".py",
   "mimetype": "text/x-python",
   "name": "python",
   "nbconvert_exporter": "python",
   "pygments_lexer": "ipython3",
   "version": "3.11.7"
  }
 },
 "nbformat": 4,
 "nbformat_minor": 5
}
