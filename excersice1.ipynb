{
 "cells": [
  {
   "cell_type": "code",
   "execution_count": null,
   "id": "4ff45c06",
   "metadata": {},
   "outputs": [],
   "source": [
    "questions = [\n",
    "    [\"what is the value of pi?\",'1.22','2','3.14','3',3],\n",
    "    [\"what is the name of our planet\",'sun','earth','jupyter','mars',2],\n",
    "    [\"what is the value of pi?\",'1.22','2','3.14','3',4],\n",
    "    [\"what is the value of pi?\",'1.22','2','3.14','3',4],\n",
    "    [\"what is the value of pi?\",'1.22','2','3.14','3',4],\n",
    "    [\"what is the value of pi?\",'1.22','2','3.14','3',4],\n",
    "    [\"what is the value of pi?\",'1.22','2','3.14','3',4],\n",
    "    [\"what is the value of pi?\",'1.22','2','3.14','3',4],\n",
    "    [\"what is the value of pi?\",'1.22','2','3.14','3',4],\n",
    "    [\"what is the value of pi?\",'1.22','2','3.14','3',4],\n",
    "    [\"what is the value of pi?\",'1.22','2','3.14','3',4],\n",
    "    [\"what is the value of pi?\",'1.22','2','3.14','3',4],\n",
    "    [\"what is the value of pi?\",'1.22','2','3.14','3',4],\n",
    "    [\"what is the value of pi?\",'1.22','2','3.14','3',4],\n",
    "    [\"what is the value of pi?\",'1.22','2','3.14','3',4],\n",
    "    ]\n",
    "levels = [1000,2000,5000,20000,40000,80000,120000,150000,200000,350000,500000,1000000,5000000,7500000,10000000]\n",
    "money = 0\n",
    "i = 0\n",
    "for i in range (0, len(questions)):\n",
    "    question = questions[i]\n",
    "    print(f\"\\n\\nQuestion for Rs.{levels[i]}\")\n",
    "    print(f\"a.{question[1]}         b.{question[2]}\")\n",
    "    print(f\"c.{question[3]}         d.{question[4]}\")\n",
    "    reply = int(input(\"enter the correct answer from(1-4): \"))\n",
    "    if(reply == question[-1]):\n",
    "        print(f\"correct answer, you have won {levels[i]}\")\n",
    "        if(i == 4):\n",
    "            money = 400000\n",
    "        elif(i== 9 ):\n",
    "            money = 350000\n",
    "        elif(i == 14):\n",
    "            money = 10000000\n",
    "    else:\n",
    "        print('wrong answer!')\n",
    "        break\n"
   ]
  },
  {
   "cell_type": "markdown",
   "id": "7887f2fc",
   "metadata": {},
   "source": []
  },
  {
   "cell_type": "code",
   "execution_count": null,
   "id": "730ed889",
   "metadata": {},
   "outputs": [],
   "source": []
  }
 ],
 "metadata": {
  "kernelspec": {
   "display_name": "Python 3 (ipykernel)",
   "language": "python",
   "name": "python3"
  },
  "language_info": {
   "codemirror_mode": {
    "name": "ipython",
    "version": 3
   },
   "file_extension": ".py",
   "mimetype": "text/x-python",
   "name": "python",
   "nbconvert_exporter": "python",
   "pygments_lexer": "ipython3",
   "version": "3.11.7"
  }
 },
 "nbformat": 4,
 "nbformat_minor": 5
}
